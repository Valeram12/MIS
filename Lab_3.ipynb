{
  "cells": [
    {
      "cell_type": "markdown",
      "id": "fa6763ff-8ca0-4d7b-80fe-8e45a9e0baa3",
      "metadata": {
        "id": "fa6763ff-8ca0-4d7b-80fe-8e45a9e0baa3"
      },
      "source": [
        "<h1>Complete tasks using Pandas</h1>"
      ]
    },
    {
      "cell_type": "markdown",
      "source": [
        "2, 4, 6, 7, 9, 10, 15, 16, 17, 18, 20, 21, 22, 23,24, 25, 26, 27\n"
      ],
      "metadata": {
        "id": "oMGlI0lTM-uD"
      },
      "id": "oMGlI0lTM-uD"
    },
    {
      "cell_type": "code",
      "execution_count": 2,
      "id": "5da81764-8618-4f8d-8210-96356b36df9c",
      "metadata": {
        "id": "5da81764-8618-4f8d-8210-96356b36df9c"
      },
      "outputs": [],
      "source": [
        "import string\n",
        "import random\n",
        "import pandas as pd\n",
        "import numpy as np\n",
        "\n",
        "df = pd.read_csv('./NationalNames.csv')"
      ]
    },
    {
      "cell_type": "markdown",
      "id": "12c517e4-8336-4adc-8ba6-f5365b73bb9b",
      "metadata": {
        "id": "12c517e4-8336-4adc-8ba6-f5365b73bb9b"
      },
      "source": [
        "<h2>2. Вивести останні 8 рядків набору даних.</h2>"
      ]
    },
    {
      "cell_type": "code",
      "execution_count": null,
      "id": "aa15b3e3-f249-42e8-9bca-07f2f4b11421",
      "metadata": {
        "id": "aa15b3e3-f249-42e8-9bca-07f2f4b11421",
        "outputId": "c69e306e-f075-42a2-b6a8-e1afaeff8b6d"
      },
      "outputs": [
        {
          "data": {
            "text/html": [
              "<div>\n",
              "<style scoped>\n",
              "    .dataframe tbody tr th:only-of-type {\n",
              "        vertical-align: middle;\n",
              "    }\n",
              "\n",
              "    .dataframe tbody tr th {\n",
              "        vertical-align: top;\n",
              "    }\n",
              "\n",
              "    .dataframe thead th {\n",
              "        text-align: right;\n",
              "    }\n",
              "</style>\n",
              "<table border=\"1\" class=\"dataframe\">\n",
              "  <thead>\n",
              "    <tr style=\"text-align: right;\">\n",
              "      <th></th>\n",
              "      <th>Id</th>\n",
              "      <th>Name</th>\n",
              "      <th>Year</th>\n",
              "      <th>Gender</th>\n",
              "      <th>Count</th>\n",
              "    </tr>\n",
              "  </thead>\n",
              "  <tbody>\n",
              "    <tr>\n",
              "      <th>1825425</th>\n",
              "      <td>1825426</td>\n",
              "      <td>Zo</td>\n",
              "      <td>2014</td>\n",
              "      <td>M</td>\n",
              "      <td>5</td>\n",
              "    </tr>\n",
              "    <tr>\n",
              "      <th>1825426</th>\n",
              "      <td>1825427</td>\n",
              "      <td>Zyeir</td>\n",
              "      <td>2014</td>\n",
              "      <td>M</td>\n",
              "      <td>5</td>\n",
              "    </tr>\n",
              "    <tr>\n",
              "      <th>1825427</th>\n",
              "      <td>1825428</td>\n",
              "      <td>Zyel</td>\n",
              "      <td>2014</td>\n",
              "      <td>M</td>\n",
              "      <td>5</td>\n",
              "    </tr>\n",
              "    <tr>\n",
              "      <th>1825428</th>\n",
              "      <td>1825429</td>\n",
              "      <td>Zykeem</td>\n",
              "      <td>2014</td>\n",
              "      <td>M</td>\n",
              "      <td>5</td>\n",
              "    </tr>\n",
              "    <tr>\n",
              "      <th>1825429</th>\n",
              "      <td>1825430</td>\n",
              "      <td>Zymeer</td>\n",
              "      <td>2014</td>\n",
              "      <td>M</td>\n",
              "      <td>5</td>\n",
              "    </tr>\n",
              "    <tr>\n",
              "      <th>1825430</th>\n",
              "      <td>1825431</td>\n",
              "      <td>Zymiere</td>\n",
              "      <td>2014</td>\n",
              "      <td>M</td>\n",
              "      <td>5</td>\n",
              "    </tr>\n",
              "    <tr>\n",
              "      <th>1825431</th>\n",
              "      <td>1825432</td>\n",
              "      <td>Zyran</td>\n",
              "      <td>2014</td>\n",
              "      <td>M</td>\n",
              "      <td>5</td>\n",
              "    </tr>\n",
              "    <tr>\n",
              "      <th>1825432</th>\n",
              "      <td>1825433</td>\n",
              "      <td>Zyrin</td>\n",
              "      <td>2014</td>\n",
              "      <td>M</td>\n",
              "      <td>5</td>\n",
              "    </tr>\n",
              "  </tbody>\n",
              "</table>\n",
              "</div>"
            ],
            "text/plain": [
              "              Id     Name  Year Gender  Count\n",
              "1825425  1825426       Zo  2014      M      5\n",
              "1825426  1825427    Zyeir  2014      M      5\n",
              "1825427  1825428     Zyel  2014      M      5\n",
              "1825428  1825429   Zykeem  2014      M      5\n",
              "1825429  1825430   Zymeer  2014      M      5\n",
              "1825430  1825431  Zymiere  2014      M      5\n",
              "1825431  1825432    Zyran  2014      M      5\n",
              "1825432  1825433    Zyrin  2014      M      5"
            ]
          },
          "execution_count": 11,
          "metadata": {},
          "output_type": "execute_result"
        }
      ],
      "source": [
        "df[-8:]"
      ]
    },
    {
      "cell_type": "markdown",
      "source": [
        "<h2>4.Отримайте загальну інформацію про дані у наборі даних</h2>"
      ],
      "metadata": {
        "id": "Z4aYknCrOCfU"
      },
      "id": "Z4aYknCrOCfU"
    },
    {
      "cell_type": "code",
      "source": [
        "columns_included = ['Id', 'Year', 'Count']\n",
        "summary = df[columns_included].describe(percentiles=[.25, .5, .75])\n",
        "summary"
      ],
      "metadata": {
        "colab": {
          "base_uri": "https://localhost:8080/",
          "height": 301
        },
        "id": "GMFXclYIOD_G",
        "outputId": "88705818-538c-4ea2-8c56-49ded84ebcc6"
      },
      "id": "GMFXclYIOD_G",
      "execution_count": 3,
      "outputs": [
        {
          "output_type": "execute_result",
          "data": {
            "text/plain": [
              "                 Id          Year         Count\n",
              "count  1.825433e+06  1.825433e+06  1.825433e+06\n",
              "mean   9.127170e+05  1.972620e+03  1.846879e+02\n",
              "std    5.269573e+05  3.352891e+01  1.566711e+03\n",
              "min    1.000000e+00  1.880000e+03  5.000000e+00\n",
              "25%    4.563590e+05  1.949000e+03  7.000000e+00\n",
              "50%    9.127170e+05  1.982000e+03  1.200000e+01\n",
              "75%    1.369075e+06  2.001000e+03  3.200000e+01\n",
              "max    1.825433e+06  2.014000e+03  9.968000e+04"
            ],
            "text/html": [
              "\n",
              "  <div id=\"df-27e92c5f-ad1d-4ef1-befa-2908dce632c0\" class=\"colab-df-container\">\n",
              "    <div>\n",
              "<style scoped>\n",
              "    .dataframe tbody tr th:only-of-type {\n",
              "        vertical-align: middle;\n",
              "    }\n",
              "\n",
              "    .dataframe tbody tr th {\n",
              "        vertical-align: top;\n",
              "    }\n",
              "\n",
              "    .dataframe thead th {\n",
              "        text-align: right;\n",
              "    }\n",
              "</style>\n",
              "<table border=\"1\" class=\"dataframe\">\n",
              "  <thead>\n",
              "    <tr style=\"text-align: right;\">\n",
              "      <th></th>\n",
              "      <th>Id</th>\n",
              "      <th>Year</th>\n",
              "      <th>Count</th>\n",
              "    </tr>\n",
              "  </thead>\n",
              "  <tbody>\n",
              "    <tr>\n",
              "      <th>count</th>\n",
              "      <td>1.825433e+06</td>\n",
              "      <td>1.825433e+06</td>\n",
              "      <td>1.825433e+06</td>\n",
              "    </tr>\n",
              "    <tr>\n",
              "      <th>mean</th>\n",
              "      <td>9.127170e+05</td>\n",
              "      <td>1.972620e+03</td>\n",
              "      <td>1.846879e+02</td>\n",
              "    </tr>\n",
              "    <tr>\n",
              "      <th>std</th>\n",
              "      <td>5.269573e+05</td>\n",
              "      <td>3.352891e+01</td>\n",
              "      <td>1.566711e+03</td>\n",
              "    </tr>\n",
              "    <tr>\n",
              "      <th>min</th>\n",
              "      <td>1.000000e+00</td>\n",
              "      <td>1.880000e+03</td>\n",
              "      <td>5.000000e+00</td>\n",
              "    </tr>\n",
              "    <tr>\n",
              "      <th>25%</th>\n",
              "      <td>4.563590e+05</td>\n",
              "      <td>1.949000e+03</td>\n",
              "      <td>7.000000e+00</td>\n",
              "    </tr>\n",
              "    <tr>\n",
              "      <th>50%</th>\n",
              "      <td>9.127170e+05</td>\n",
              "      <td>1.982000e+03</td>\n",
              "      <td>1.200000e+01</td>\n",
              "    </tr>\n",
              "    <tr>\n",
              "      <th>75%</th>\n",
              "      <td>1.369075e+06</td>\n",
              "      <td>2.001000e+03</td>\n",
              "      <td>3.200000e+01</td>\n",
              "    </tr>\n",
              "    <tr>\n",
              "      <th>max</th>\n",
              "      <td>1.825433e+06</td>\n",
              "      <td>2.014000e+03</td>\n",
              "      <td>9.968000e+04</td>\n",
              "    </tr>\n",
              "  </tbody>\n",
              "</table>\n",
              "</div>\n",
              "    <div class=\"colab-df-buttons\">\n",
              "\n",
              "  <div class=\"colab-df-container\">\n",
              "    <button class=\"colab-df-convert\" onclick=\"convertToInteractive('df-27e92c5f-ad1d-4ef1-befa-2908dce632c0')\"\n",
              "            title=\"Convert this dataframe to an interactive table.\"\n",
              "            style=\"display:none;\">\n",
              "\n",
              "  <svg xmlns=\"http://www.w3.org/2000/svg\" height=\"24px\" viewBox=\"0 -960 960 960\">\n",
              "    <path d=\"M120-120v-720h720v720H120Zm60-500h600v-160H180v160Zm220 220h160v-160H400v160Zm0 220h160v-160H400v160ZM180-400h160v-160H180v160Zm440 0h160v-160H620v160ZM180-180h160v-160H180v160Zm440 0h160v-160H620v160Z\"/>\n",
              "  </svg>\n",
              "    </button>\n",
              "\n",
              "  <style>\n",
              "    .colab-df-container {\n",
              "      display:flex;\n",
              "      gap: 12px;\n",
              "    }\n",
              "\n",
              "    .colab-df-convert {\n",
              "      background-color: #E8F0FE;\n",
              "      border: none;\n",
              "      border-radius: 50%;\n",
              "      cursor: pointer;\n",
              "      display: none;\n",
              "      fill: #1967D2;\n",
              "      height: 32px;\n",
              "      padding: 0 0 0 0;\n",
              "      width: 32px;\n",
              "    }\n",
              "\n",
              "    .colab-df-convert:hover {\n",
              "      background-color: #E2EBFA;\n",
              "      box-shadow: 0px 1px 2px rgba(60, 64, 67, 0.3), 0px 1px 3px 1px rgba(60, 64, 67, 0.15);\n",
              "      fill: #174EA6;\n",
              "    }\n",
              "\n",
              "    .colab-df-buttons div {\n",
              "      margin-bottom: 4px;\n",
              "    }\n",
              "\n",
              "    [theme=dark] .colab-df-convert {\n",
              "      background-color: #3B4455;\n",
              "      fill: #D2E3FC;\n",
              "    }\n",
              "\n",
              "    [theme=dark] .colab-df-convert:hover {\n",
              "      background-color: #434B5C;\n",
              "      box-shadow: 0px 1px 3px 1px rgba(0, 0, 0, 0.15);\n",
              "      filter: drop-shadow(0px 1px 2px rgba(0, 0, 0, 0.3));\n",
              "      fill: #FFFFFF;\n",
              "    }\n",
              "  </style>\n",
              "\n",
              "    <script>\n",
              "      const buttonEl =\n",
              "        document.querySelector('#df-27e92c5f-ad1d-4ef1-befa-2908dce632c0 button.colab-df-convert');\n",
              "      buttonEl.style.display =\n",
              "        google.colab.kernel.accessAllowed ? 'block' : 'none';\n",
              "\n",
              "      async function convertToInteractive(key) {\n",
              "        const element = document.querySelector('#df-27e92c5f-ad1d-4ef1-befa-2908dce632c0');\n",
              "        const dataTable =\n",
              "          await google.colab.kernel.invokeFunction('convertToInteractive',\n",
              "                                                    [key], {});\n",
              "        if (!dataTable) return;\n",
              "\n",
              "        const docLinkHtml = 'Like what you see? Visit the ' +\n",
              "          '<a target=\"_blank\" href=https://colab.research.google.com/notebooks/data_table.ipynb>data table notebook</a>'\n",
              "          + ' to learn more about interactive tables.';\n",
              "        element.innerHTML = '';\n",
              "        dataTable['output_type'] = 'display_data';\n",
              "        await google.colab.output.renderOutput(dataTable, element);\n",
              "        const docLink = document.createElement('div');\n",
              "        docLink.innerHTML = docLinkHtml;\n",
              "        element.appendChild(docLink);\n",
              "      }\n",
              "    </script>\n",
              "  </div>\n",
              "\n",
              "\n",
              "<div id=\"df-21080677-94c2-41f9-ba70-e3a97925caa9\">\n",
              "  <button class=\"colab-df-quickchart\" onclick=\"quickchart('df-21080677-94c2-41f9-ba70-e3a97925caa9')\"\n",
              "            title=\"Suggest charts\"\n",
              "            style=\"display:none;\">\n",
              "\n",
              "<svg xmlns=\"http://www.w3.org/2000/svg\" height=\"24px\"viewBox=\"0 0 24 24\"\n",
              "     width=\"24px\">\n",
              "    <g>\n",
              "        <path d=\"M19 3H5c-1.1 0-2 .9-2 2v14c0 1.1.9 2 2 2h14c1.1 0 2-.9 2-2V5c0-1.1-.9-2-2-2zM9 17H7v-7h2v7zm4 0h-2V7h2v10zm4 0h-2v-4h2v4z\"/>\n",
              "    </g>\n",
              "</svg>\n",
              "  </button>\n",
              "\n",
              "<style>\n",
              "  .colab-df-quickchart {\n",
              "      --bg-color: #E8F0FE;\n",
              "      --fill-color: #1967D2;\n",
              "      --hover-bg-color: #E2EBFA;\n",
              "      --hover-fill-color: #174EA6;\n",
              "      --disabled-fill-color: #AAA;\n",
              "      --disabled-bg-color: #DDD;\n",
              "  }\n",
              "\n",
              "  [theme=dark] .colab-df-quickchart {\n",
              "      --bg-color: #3B4455;\n",
              "      --fill-color: #D2E3FC;\n",
              "      --hover-bg-color: #434B5C;\n",
              "      --hover-fill-color: #FFFFFF;\n",
              "      --disabled-bg-color: #3B4455;\n",
              "      --disabled-fill-color: #666;\n",
              "  }\n",
              "\n",
              "  .colab-df-quickchart {\n",
              "    background-color: var(--bg-color);\n",
              "    border: none;\n",
              "    border-radius: 50%;\n",
              "    cursor: pointer;\n",
              "    display: none;\n",
              "    fill: var(--fill-color);\n",
              "    height: 32px;\n",
              "    padding: 0;\n",
              "    width: 32px;\n",
              "  }\n",
              "\n",
              "  .colab-df-quickchart:hover {\n",
              "    background-color: var(--hover-bg-color);\n",
              "    box-shadow: 0 1px 2px rgba(60, 64, 67, 0.3), 0 1px 3px 1px rgba(60, 64, 67, 0.15);\n",
              "    fill: var(--button-hover-fill-color);\n",
              "  }\n",
              "\n",
              "  .colab-df-quickchart-complete:disabled,\n",
              "  .colab-df-quickchart-complete:disabled:hover {\n",
              "    background-color: var(--disabled-bg-color);\n",
              "    fill: var(--disabled-fill-color);\n",
              "    box-shadow: none;\n",
              "  }\n",
              "\n",
              "  .colab-df-spinner {\n",
              "    border: 2px solid var(--fill-color);\n",
              "    border-color: transparent;\n",
              "    border-bottom-color: var(--fill-color);\n",
              "    animation:\n",
              "      spin 1s steps(1) infinite;\n",
              "  }\n",
              "\n",
              "  @keyframes spin {\n",
              "    0% {\n",
              "      border-color: transparent;\n",
              "      border-bottom-color: var(--fill-color);\n",
              "      border-left-color: var(--fill-color);\n",
              "    }\n",
              "    20% {\n",
              "      border-color: transparent;\n",
              "      border-left-color: var(--fill-color);\n",
              "      border-top-color: var(--fill-color);\n",
              "    }\n",
              "    30% {\n",
              "      border-color: transparent;\n",
              "      border-left-color: var(--fill-color);\n",
              "      border-top-color: var(--fill-color);\n",
              "      border-right-color: var(--fill-color);\n",
              "    }\n",
              "    40% {\n",
              "      border-color: transparent;\n",
              "      border-right-color: var(--fill-color);\n",
              "      border-top-color: var(--fill-color);\n",
              "    }\n",
              "    60% {\n",
              "      border-color: transparent;\n",
              "      border-right-color: var(--fill-color);\n",
              "    }\n",
              "    80% {\n",
              "      border-color: transparent;\n",
              "      border-right-color: var(--fill-color);\n",
              "      border-bottom-color: var(--fill-color);\n",
              "    }\n",
              "    90% {\n",
              "      border-color: transparent;\n",
              "      border-bottom-color: var(--fill-color);\n",
              "    }\n",
              "  }\n",
              "</style>\n",
              "\n",
              "  <script>\n",
              "    async function quickchart(key) {\n",
              "      const quickchartButtonEl =\n",
              "        document.querySelector('#' + key + ' button');\n",
              "      quickchartButtonEl.disabled = true;  // To prevent multiple clicks.\n",
              "      quickchartButtonEl.classList.add('colab-df-spinner');\n",
              "      try {\n",
              "        const charts = await google.colab.kernel.invokeFunction(\n",
              "            'suggestCharts', [key], {});\n",
              "      } catch (error) {\n",
              "        console.error('Error during call to suggestCharts:', error);\n",
              "      }\n",
              "      quickchartButtonEl.classList.remove('colab-df-spinner');\n",
              "      quickchartButtonEl.classList.add('colab-df-quickchart-complete');\n",
              "    }\n",
              "    (() => {\n",
              "      let quickchartButtonEl =\n",
              "        document.querySelector('#df-21080677-94c2-41f9-ba70-e3a97925caa9 button');\n",
              "      quickchartButtonEl.style.display =\n",
              "        google.colab.kernel.accessAllowed ? 'block' : 'none';\n",
              "    })();\n",
              "  </script>\n",
              "</div>\n",
              "    </div>\n",
              "  </div>\n"
            ],
            "application/vnd.google.colaboratory.intrinsic+json": {
              "type": "dataframe",
              "variable_name": "summary",
              "summary": "{\n  \"name\": \"summary\",\n  \"rows\": 8,\n  \"fields\": [\n    {\n      \"column\": \"Id\",\n      \"properties\": {\n        \"dtype\": \"number\",\n        \"std\": 657894.580311937,\n        \"min\": 1.0,\n        \"max\": 1825433.0,\n        \"num_unique_values\": 6,\n        \"samples\": [\n          1825433.0,\n          912717.0,\n          1369075.0\n        ],\n        \"semantic_type\": \"\",\n        \"description\": \"\"\n      }\n    },\n    {\n      \"column\": \"Year\",\n      \"properties\": {\n        \"dtype\": \"number\",\n        \"std\": 644790.7687257404,\n        \"min\": 33.528912337597625,\n        \"max\": 1825433.0,\n        \"num_unique_values\": 8,\n        \"samples\": [\n          1972.6197833609888,\n          1982.0,\n          1825433.0\n        ],\n        \"semantic_type\": \"\",\n        \"description\": \"\"\n      }\n    },\n    {\n      \"column\": \"Count\",\n      \"properties\": {\n        \"dtype\": \"number\",\n        \"std\": 641206.0569027999,\n        \"min\": 5.0,\n        \"max\": 1825433.0,\n        \"num_unique_values\": 8,\n        \"samples\": [\n          184.68792116719703,\n          12.0,\n          1825433.0\n        ],\n        \"semantic_type\": \"\",\n        \"description\": \"\"\n      }\n    }\n  ]\n}"
            }
          },
          "metadata": {},
          "execution_count": 3
        }
      ]
    },
    {
      "cell_type": "markdown",
      "source": [
        "<h2>6.Обчисліть кількість унікальних жіночих та чоловічих імен у цілому наборі даних.<h2>"
      ],
      "metadata": {
        "id": "fQihDBV5OxCJ"
      },
      "id": "fQihDBV5OxCJ"
    },
    {
      "cell_type": "code",
      "source": [
        "df.groupby(['Gender'])['Name'].nunique()"
      ],
      "metadata": {
        "colab": {
          "base_uri": "https://localhost:8080/"
        },
        "id": "vb5zmxszO16P",
        "outputId": "9bf5fad7-91e0-4bc0-bec6-b4c24aa97993"
      },
      "id": "vb5zmxszO16P",
      "execution_count": 4,
      "outputs": [
        {
          "output_type": "execute_result",
          "data": {
            "text/plain": [
              "Gender\n",
              "F    64911\n",
              "M    39199\n",
              "Name: Name, dtype: int64"
            ]
          },
          "metadata": {},
          "execution_count": 4
        }
      ]
    },
    {
      "cell_type": "markdown",
      "source": [
        "<h2>7.Знайдіть 5 найпопулярніших чоловічих імен у 2010 році.<h2>"
      ],
      "metadata": {
        "id": "IKj0VL9KO6WO"
      },
      "id": "IKj0VL9KO6WO"
    },
    {
      "cell_type": "code",
      "source": [
        "df[(df['Gender'] == 'M') & (df['Year'] == 2010)].sort_values(by=['Count'], ascending=False)[:5]"
      ],
      "metadata": {
        "id": "2HNiFAOOO-La"
      },
      "id": "2HNiFAOOO-La",
      "execution_count": null,
      "outputs": []
    },
    {
      "cell_type": "markdown",
      "source": [
        "<h2>9.Підрахуйте кількість записів, для яких Count-мінімальне у наборі.<h2>"
      ],
      "metadata": {
        "id": "44L9wxg1OPBA"
      },
      "id": "44L9wxg1OPBA"
    },
    {
      "cell_type": "code",
      "source": [
        "minimal = df.loc[df['Count'].idxmin()]\n",
        "rows = df[df['Count'] == minimal['Count']]\n",
        "rows.shape[0]"
      ],
      "metadata": {
        "id": "UUwIUP3COViv"
      },
      "id": "UUwIUP3COViv",
      "execution_count": null,
      "outputs": []
    },
    {
      "cell_type": "markdown",
      "id": "9af3400c-80cd-460c-a48b-a8242465651e",
      "metadata": {
        "id": "9af3400c-80cd-460c-a48b-a8242465651e"
      },
      "source": [
        "<h2>10. Підрахуйте кількість унікальних імен у кожному році</h2>"
      ]
    },
    {
      "cell_type": "code",
      "execution_count": null,
      "id": "5050e2d6-a38c-44b9-8b02-ade80a6426fa",
      "metadata": {
        "id": "5050e2d6-a38c-44b9-8b02-ade80a6426fa",
        "outputId": "b31239e1-5db0-43bb-eb99-cfe7a7d1442e"
      },
      "outputs": [
        {
          "data": {
            "text/plain": [
              "Year\n",
              "1880    1889\n",
              "1881    1830\n",
              "1882    2012\n",
              "1883    1962\n",
              "1884    2158\n",
              "Name: Name, dtype: int64"
            ]
          },
          "execution_count": 16,
          "metadata": {},
          "output_type": "execute_result"
        }
      ],
      "source": [
        "df.groupby('Year')['Name'].nunique().head()"
      ]
    },
    {
      "cell_type": "markdown",
      "id": "edea298d-3c6a-4913-9044-f5740d51b1d2",
      "metadata": {
        "id": "edea298d-3c6a-4913-9044-f5740d51b1d2"
      },
      "source": [
        "<h2>15. Знайдіть загальну кількість народжень за рік.</h2>"
      ]
    },
    {
      "cell_type": "code",
      "execution_count": null,
      "id": "cbdd92af-6f19-42ed-970c-ea0afd2911ad",
      "metadata": {
        "id": "cbdd92af-6f19-42ed-970c-ea0afd2911ad",
        "outputId": "46166be6-4991-4d1e-b838-b6859bf459dc"
      },
      "outputs": [
        {
          "data": {
            "text/plain": [
              "Year\n",
              "1880    201484\n",
              "1881    192699\n",
              "1882    221538\n",
              "1883    216950\n",
              "1884    243467\n",
              "Name: Count, dtype: int64"
            ]
          },
          "execution_count": 31,
          "metadata": {},
          "output_type": "execute_result"
        }
      ],
      "source": [
        "df.groupby('Year')['Count'].sum().head()"
      ]
    },
    {
      "cell_type": "markdown",
      "id": "0201d646-cc3b-48c7-8cd7-e33f85d20270",
      "metadata": {
        "id": "0201d646-cc3b-48c7-8cd7-e33f85d20270"
      },
      "source": [
        "<h2>16. Знайдіть рік, коли народилося найбільше дітей</h2>"
      ]
    },
    {
      "cell_type": "code",
      "execution_count": null,
      "id": "fc931445-5e58-48c2-aa52-5d0ab9a7b6f5",
      "metadata": {
        "id": "fc931445-5e58-48c2-aa52-5d0ab9a7b6f5",
        "outputId": "448d3550-6f68-44bf-a5ac-cb49cd637013"
      },
      "outputs": [
        {
          "data": {
            "text/plain": [
              "1957"
            ]
          },
          "execution_count": 32,
          "metadata": {},
          "output_type": "execute_result"
        }
      ],
      "source": [
        "df.groupby('Year')['Count'].sum().idxmax()"
      ]
    },
    {
      "cell_type": "markdown",
      "id": "aa0d1169-f9a6-4189-9a6d-53ccb3b037b1",
      "metadata": {
        "id": "aa0d1169-f9a6-4189-9a6d-53ccb3b037b1"
      },
      "source": [
        "<h2>17. Знайдіть кількість дівчаток та хлопчиків, які народились кожного</h2>"
      ]
    },
    {
      "cell_type": "code",
      "execution_count": null,
      "id": "833d9f07-3d4b-48d7-925a-5f8428958679",
      "metadata": {
        "id": "833d9f07-3d4b-48d7-925a-5f8428958679",
        "outputId": "25e193df-a084-4b12-f042-ad3459c38903"
      },
      "outputs": [
        {
          "data": {
            "text/html": [
              "<div>\n",
              "<style scoped>\n",
              "    .dataframe tbody tr th:only-of-type {\n",
              "        vertical-align: middle;\n",
              "    }\n",
              "\n",
              "    .dataframe tbody tr th {\n",
              "        vertical-align: top;\n",
              "    }\n",
              "\n",
              "    .dataframe thead th {\n",
              "        text-align: right;\n",
              "    }\n",
              "</style>\n",
              "<table border=\"1\" class=\"dataframe\">\n",
              "  <thead>\n",
              "    <tr style=\"text-align: right;\">\n",
              "      <th>Gender</th>\n",
              "      <th>F</th>\n",
              "      <th>M</th>\n",
              "    </tr>\n",
              "    <tr>\n",
              "      <th>Year</th>\n",
              "      <th></th>\n",
              "      <th></th>\n",
              "    </tr>\n",
              "  </thead>\n",
              "  <tbody>\n",
              "    <tr>\n",
              "      <th>1880</th>\n",
              "      <td>90993</td>\n",
              "      <td>110491</td>\n",
              "    </tr>\n",
              "    <tr>\n",
              "      <th>1881</th>\n",
              "      <td>91954</td>\n",
              "      <td>100745</td>\n",
              "    </tr>\n",
              "    <tr>\n",
              "      <th>1882</th>\n",
              "      <td>107850</td>\n",
              "      <td>113688</td>\n",
              "    </tr>\n",
              "    <tr>\n",
              "      <th>1883</th>\n",
              "      <td>112321</td>\n",
              "      <td>104629</td>\n",
              "    </tr>\n",
              "    <tr>\n",
              "      <th>1884</th>\n",
              "      <td>129022</td>\n",
              "      <td>114445</td>\n",
              "    </tr>\n",
              "  </tbody>\n",
              "</table>\n",
              "</div>"
            ],
            "text/plain": [
              "Gender       F       M\n",
              "Year                  \n",
              "1880     90993  110491\n",
              "1881     91954  100745\n",
              "1882    107850  113688\n",
              "1883    112321  104629\n",
              "1884    129022  114445"
            ]
          },
          "execution_count": 33,
          "metadata": {},
          "output_type": "execute_result"
        }
      ],
      "source": [
        "df.groupby(['Year', 'Gender'])['Count'].sum().unstack().head()"
      ]
    },
    {
      "cell_type": "markdown",
      "id": "e7d80a54-1fb1-4f79-8267-14b6343d5fe0",
      "metadata": {
        "id": "e7d80a54-1fb1-4f79-8267-14b6343d5fe0"
      },
      "source": [
        "<h2>18. Підрахуйте кількість років, коли дівчаток народжувалось більше,\n",
        "ніж хлопчиків.</h2>"
      ]
    },
    {
      "cell_type": "code",
      "execution_count": null,
      "id": "89cf509c-1640-416f-a04c-e6448a076980",
      "metadata": {
        "id": "89cf509c-1640-416f-a04c-e6448a076980",
        "outputId": "f43cbd54-74f4-4368-d499-346c1210397c"
      },
      "outputs": [
        {
          "data": {
            "text/plain": [
              "54"
            ]
          },
          "execution_count": 34,
          "metadata": {},
          "output_type": "execute_result"
        }
      ],
      "source": [
        "boys_girls_count = df.groupby(['Year', 'Gender'])['Count'].sum().unstack()\n",
        "boys_girls_count[boys_girls_count['F'] > boys_girls_count['M']].shape[0]"
      ]
    },
    {
      "cell_type": "markdown",
      "source": [
        "<h2>20.Підрахуйте кількість гендерно-нейтральних імен (однакових для дівчат та хлопців)<h2>"
      ],
      "metadata": {
        "id": "alwaa74pObHS"
      },
      "id": "alwaa74pObHS"
    },
    {
      "cell_type": "code",
      "source": [
        "num_of_years = len(df['Year'].unique())\n",
        "print(f\"Спостереження проводились {num_of_years} років.\")"
      ],
      "metadata": {
        "id": "9jU9Yqk1Ogkh"
      },
      "id": "9jU9Yqk1Ogkh",
      "execution_count": null,
      "outputs": []
    },
    {
      "cell_type": "markdown",
      "id": "24401c9c-a477-4943-8e68-4604ea5f8ba0",
      "metadata": {
        "id": "24401c9c-a477-4943-8e68-4604ea5f8ba0"
      },
      "source": [
        "<h2>21. Порахуйте, скільки разів хлопчиків називали Barbara</h2>"
      ]
    },
    {
      "cell_type": "code",
      "execution_count": null,
      "id": "7a0936be-ad43-4a13-a8ab-7c543016ca48",
      "metadata": {
        "id": "7a0936be-ad43-4a13-a8ab-7c543016ca48",
        "outputId": "87990198-69e2-4c18-c68f-74e98c59dca8"
      },
      "outputs": [
        {
          "data": {
            "text/plain": [
              "4139"
            ]
          },
          "execution_count": 35,
          "metadata": {},
          "output_type": "execute_result"
        }
      ],
      "source": [
        "df[(df['Name'] == 'Barbara') & (df['Gender'] == 'M')]['Count'].sum()"
      ]
    },
    {
      "cell_type": "markdown",
      "id": "e9294acf-3e83-4021-ae18-5e9eb6006dda",
      "metadata": {
        "id": "e9294acf-3e83-4021-ae18-5e9eb6006dda"
      },
      "source": [
        "<h2>22. Підрахуйте скільки років проводилось спостереження</h2>"
      ]
    },
    {
      "cell_type": "code",
      "execution_count": null,
      "id": "1dfd0225-92ce-466e-a84f-dbb3f43c2ff8",
      "metadata": {
        "id": "1dfd0225-92ce-466e-a84f-dbb3f43c2ff8",
        "outputId": "bf044b55-05f1-4ac4-9b78-b353ec0deae3"
      },
      "outputs": [
        {
          "name": "stdout",
          "output_type": "stream",
          "text": [
            "Спостереження проводились 135 років.\n"
          ]
        }
      ],
      "source": [
        "num_of_years = len(df['Year'].unique())\n",
        "print(f\"Спостереження проводились {num_of_years} років.\")"
      ]
    },
    {
      "cell_type": "markdown",
      "id": "73ffaa2a-c891-4bde-aa29-4d79711b46c2",
      "metadata": {
        "id": "73ffaa2a-c891-4bde-aa29-4d79711b46c2"
      },
      "source": [
        "<h2>23. Знати найпопулярніші гендерно-нейтральні імена (ті, що присутні\n",
        "кожного року)</h2>"
      ]
    },
    {
      "cell_type": "code",
      "execution_count": null,
      "id": "78417c04-afd0-42cc-8f5c-1fb4b3c66094",
      "metadata": {
        "id": "78417c04-afd0-42cc-8f5c-1fb4b3c66094",
        "outputId": "793e49d0-63a7-41e9-9e4f-0b85daf7c579"
      },
      "outputs": [
        {
          "data": {
            "text/html": [
              "<div>\n",
              "<style scoped>\n",
              "    .dataframe tbody tr th:only-of-type {\n",
              "        vertical-align: middle;\n",
              "    }\n",
              "\n",
              "    .dataframe tbody tr th {\n",
              "        vertical-align: top;\n",
              "    }\n",
              "\n",
              "    .dataframe thead th {\n",
              "        text-align: right;\n",
              "    }\n",
              "</style>\n",
              "<table border=\"1\" class=\"dataframe\">\n",
              "  <thead>\n",
              "    <tr style=\"text-align: right;\">\n",
              "      <th></th>\n",
              "      <th>0</th>\n",
              "    </tr>\n",
              "  </thead>\n",
              "  <tbody>\n",
              "    <tr>\n",
              "      <th>0</th>\n",
              "      <td>Mary</td>\n",
              "    </tr>\n",
              "    <tr>\n",
              "      <th>1</th>\n",
              "      <td>Anna</td>\n",
              "    </tr>\n",
              "    <tr>\n",
              "      <th>2</th>\n",
              "      <td>Emma</td>\n",
              "    </tr>\n",
              "    <tr>\n",
              "      <th>3</th>\n",
              "      <td>Elizabeth</td>\n",
              "    </tr>\n",
              "    <tr>\n",
              "      <th>4</th>\n",
              "      <td>Minnie</td>\n",
              "    </tr>\n",
              "    <tr>\n",
              "      <th>...</th>\n",
              "      <td>...</td>\n",
              "    </tr>\n",
              "    <tr>\n",
              "      <th>818</th>\n",
              "      <td>Noble</td>\n",
              "    </tr>\n",
              "    <tr>\n",
              "      <th>819</th>\n",
              "      <td>Rupert</td>\n",
              "    </tr>\n",
              "    <tr>\n",
              "      <th>820</th>\n",
              "      <td>Thad</td>\n",
              "    </tr>\n",
              "    <tr>\n",
              "      <th>821</th>\n",
              "      <td>Kelly</td>\n",
              "    </tr>\n",
              "    <tr>\n",
              "      <th>822</th>\n",
              "      <td>Tommy</td>\n",
              "    </tr>\n",
              "  </tbody>\n",
              "</table>\n",
              "<p>823 rows × 1 columns</p>\n",
              "</div>"
            ],
            "text/plain": [
              "             0\n",
              "0         Mary\n",
              "1         Anna\n",
              "2         Emma\n",
              "3    Elizabeth\n",
              "4       Minnie\n",
              "..         ...\n",
              "818      Noble\n",
              "819     Rupert\n",
              "820       Thad\n",
              "821      Kelly\n",
              "822      Tommy\n",
              "\n",
              "[823 rows x 1 columns]"
            ]
          },
          "execution_count": 39,
          "metadata": {},
          "output_type": "execute_result"
        }
      ],
      "source": [
        "num_of_years = len(df['Year'].unique())\n",
        "male_names = df[df['Gender'] == 'M'].groupby(['Name'])['Count'].sum()\n",
        "female_names = df[df['Gender'] == 'F'].groupby(['Name'])['Count'].sum()\n",
        "gender_neutral_names = male_names.index.intersection(female_names.index)\n",
        "popular_gender_neutral_names = df[df['Name'].isin(gender_neutral_names)].groupby('Name').filter(lambda x: x['Year'].nunique() == num_of_years)['Name'].unique()\n",
        "pd.DataFrame(data=popular_gender_neutral_names)"
      ]
    },
    {
      "cell_type": "markdown",
      "id": "1385ac45-32a6-4aa6-a86b-39660762741a",
      "metadata": {
        "id": "1385ac45-32a6-4aa6-a86b-39660762741a"
      },
      "source": [
        "<h2>24. Знайти найпопулярніше серед непопулярних імен (непопулярне\n",
        "ім’я, яким називали дітей найбільшу кількість разів )</h2>"
      ]
    },
    {
      "cell_type": "code",
      "execution_count": null,
      "id": "3371c4e9-b1e8-46ab-bcdf-2b951d8a6968",
      "metadata": {
        "id": "3371c4e9-b1e8-46ab-bcdf-2b951d8a6968",
        "outputId": "d4b85e4d-40af-49c9-a8ee-c7a65b2e8464"
      },
      "outputs": [
        {
          "data": {
            "text/plain": [
              "\"Найпопулярніше ім'я серед непопулярних (названих менш ніж за 50 років) - Jayden, 189220 разів.\""
            ]
          },
          "execution_count": 54,
          "metadata": {},
          "output_type": "execute_result"
        }
      ],
      "source": [
        "years_threshold = 50\n",
        "unpopular_names = df.groupby('Name').filter(lambda x: x['Year'].nunique() < years_threshold).groupby('Name')['Count'].sum()\n",
        "unpopular_name = unpopular_names.sort_values(ascending=False).head(1)\n",
        "f\"Найпопулярніше ім'я серед непопулярних (названих менш ніж за {years_threshold} років) - {unpopular_name.index[0]}, {unpopular_name.values[0]} разів.\""
      ]
    },
    {
      "cell_type": "markdown",
      "source": [
        "<h2>25.Побудувати графіки розподілення кількості імен John та Mary по роках без залежності до статі<h2>"
      ],
      "metadata": {
        "id": "xX8NUQglPDvQ"
      },
      "id": "xX8NUQglPDvQ"
    },
    {
      "cell_type": "code",
      "source": [
        "df[df['Name'].isin(['John', 'Mary'])].groupby(['Year', 'Name'])['Count'].sum().unstack().plot()"
      ],
      "metadata": {
        "colab": {
          "base_uri": "https://localhost:8080/",
          "height": 466
        },
        "id": "GfXnssI_PHJs",
        "outputId": "035736be-e3cc-4acd-c0f0-0b34ef9f86dc"
      },
      "id": "GfXnssI_PHJs",
      "execution_count": 5,
      "outputs": [
        {
          "output_type": "execute_result",
          "data": {
            "text/plain": [
              "<Axes: xlabel='Year'>"
            ]
          },
          "metadata": {},
          "execution_count": 5
        },
        {
          "output_type": "display_data",
          "data": {
            "text/plain": [
              "<Figure size 640x480 with 1 Axes>"
            ],
            "image/png": "[encoded data removed]"
          },
          "metadata": {}
        }
      ]
    },
    {
      "cell_type": "markdown",
      "id": "da5d1aac-cf3d-48bb-b232-7098819837c4",
      "metadata": {
        "id": "da5d1aac-cf3d-48bb-b232-7098819837c4"
      },
      "source": [
        "<h2>26. Побудувати графіки розподілення кількості жіночих імен John та\n",
        "чоловічих імен Mary по роках.</h2>"
      ]
    },
    {
      "cell_type": "code",
      "execution_count": null,
      "id": "6deba9a2-ca1d-4990-948c-9183f4a6dbc9",
      "metadata": {
        "id": "6deba9a2-ca1d-4990-948c-9183f4a6dbc9",
        "outputId": "18da8a59-4a6e-48d5-cc9b-892802a7ad04"
      },
      "outputs": [
        {
          "data": {
            "image/png": "[encoded data removed]",
            "text/plain": [
              "<Figure size 640x480 with 1 Axes>"
            ]
          },
          "metadata": {},
          "output_type": "display_data"
        }
      ],
      "source": [
        "import matplotlib.pyplot as plt\n",
        "\n",
        "john_data = df[(df['Name'] == 'John') & (df['Gender'] == 'F')]\n",
        "mary_data = df[(df['Name'] == 'Mary') & (df['Gender'] == 'M')]\n",
        "\n",
        "plt.plot(john_data['Year'], john_data['Count'], label='John')\n",
        "plt.plot(mary_data['Year'], mary_data['Count'], label='Mary')\n",
        "\n",
        "plt.xlabel('Year')\n",
        "plt.ylabel('Count')\n",
        "plt.legend(title='Name')\n",
        "\n",
        "plt.show()"
      ]
    },
    {
      "cell_type": "markdown",
      "source": [
        "<h2>27.Знайти найпопулярніші імена в кожному році<h2>"
      ],
      "metadata": {
        "id": "6hVWcaSVOkUc"
      },
      "id": "6hVWcaSVOkUc"
    },
    {
      "cell_type": "code",
      "source": [
        "byYear = df.groupby(['Year', 'Name'])['Count'].sum().reset_index()\n",
        "most_popular = byYear.loc[byYear.groupby('Year')['Count'].idxmax()]\n",
        "most_popular"
      ],
      "metadata": {
        "id": "ci5UqvIhOqcI"
      },
      "id": "ci5UqvIhOqcI",
      "execution_count": null,
      "outputs": []
    }
  ],
  "metadata": {
    "kernelspec": {
      "display_name": "Python 3 (ipykernel)",
      "language": "python",
      "name": "python3"
    },
    "language_info": {
      "codemirror_mode": {
        "name": "ipython",
        "version": 3
      },
      "file_extension": ".py",
      "mimetype": "text/x-python",
      "name": "python",
      "nbconvert_exporter": "python",
      "pygments_lexer": "ipython3",
      "version": "3.11.1"
    },
    "colab": {
      "provenance": []
    }
  },
  "nbformat": 4,
  "nbformat_minor": 5
}