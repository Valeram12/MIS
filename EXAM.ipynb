{
  "nbformat": 4,
  "nbformat_minor": 0,
  "metadata": {
    "colab": {
      "provenance": []
    },
    "kernelspec": {
      "name": "python3",
      "display_name": "Python 3"
    },
    "language_info": {
      "name": "python"
    }
  },
  "cells": [
    {
      "cell_type": "code",
      "execution_count": 3,
      "metadata": {
        "colab": {
          "base_uri": "https://localhost:8080/",
          "height": 206
        },
        "id": "S6H9X-Mi_Giz",
        "outputId": "045ef67b-f4cf-4e7d-c323-2c65641a5fb7"
      },
      "outputs": [
        {
          "output_type": "execute_result",
          "data": {
            "text/plain": [
              "   Unnamed: 0  Gender EthnicGroup          ParentEduc     LunchType TestPrep  \\\n",
              "0           0  female         NaN   bachelor's degree      standard     none   \n",
              "1           1  female     group C        some college      standard      NaN   \n",
              "2           2  female     group B     master's degree      standard     none   \n",
              "3           3    male     group A  associate's degree  free/reduced     none   \n",
              "4           4    male     group C        some college      standard     none   \n",
              "\n",
              "  ParentMaritalStatus PracticeSport IsFirstChild  NrSiblings TransportMeans  \\\n",
              "0             married     regularly          yes         3.0     school_bus   \n",
              "1             married     sometimes          yes         0.0            NaN   \n",
              "2              single     sometimes          yes         4.0     school_bus   \n",
              "3             married         never           no         1.0            NaN   \n",
              "4             married     sometimes          yes         0.0     school_bus   \n",
              "\n",
              "  WklyStudyHours  MathScore  ReadingScore  WritingScore  \n",
              "0            < 5         71            71            74  \n",
              "1         5 - 10         69            90            88  \n",
              "2            < 5         87            93            91  \n",
              "3         5 - 10         45            56            42  \n",
              "4         5 - 10         76            78            75  "
            ],
            "text/html": [
              "\n",
              "  <div id=\"df-626084b1-5fd3-479a-8ab4-476bebb49ad7\" class=\"colab-df-container\">\n",
              "    <div>\n",
              "<style scoped>\n",
              "    .dataframe tbody tr th:only-of-type {\n",
              "        vertical-align: middle;\n",
              "    }\n",
              "\n",
              "    .dataframe tbody tr th {\n",
              "        vertical-align: top;\n",
              "    }\n",
              "\n",
              "    .dataframe thead th {\n",
              "        text-align: right;\n",
              "    }\n",
              "</style>\n",
              "<table border=\"1\" class=\"dataframe\">\n",
              "  <thead>\n",
              "    <tr style=\"text-align: right;\">\n",
              "      <th></th>\n",
              "      <th>Unnamed: 0</th>\n",
              "      <th>Gender</th>\n",
              "      <th>EthnicGroup</th>\n",
              "      <th>ParentEduc</th>\n",
              "      <th>LunchType</th>\n",
              "      <th>TestPrep</th>\n",
              "      <th>ParentMaritalStatus</th>\n",
              "      <th>PracticeSport</th>\n",
              "      <th>IsFirstChild</th>\n",
              "      <th>NrSiblings</th>\n",
              "      <th>TransportMeans</th>\n",
              "      <th>WklyStudyHours</th>\n",
              "      <th>MathScore</th>\n",
              "      <th>ReadingScore</th>\n",
              "      <th>WritingScore</th>\n",
              "    </tr>\n",
              "  </thead>\n",
              "  <tbody>\n",
              "    <tr>\n",
              "      <th>0</th>\n",
              "      <td>0</td>\n",
              "      <td>female</td>\n",
              "      <td>NaN</td>\n",
              "      <td>bachelor's degree</td>\n",
              "      <td>standard</td>\n",
              "      <td>none</td>\n",
              "      <td>married</td>\n",
              "      <td>regularly</td>\n",
              "      <td>yes</td>\n",
              "      <td>3.0</td>\n",
              "      <td>school_bus</td>\n",
              "      <td>&lt; 5</td>\n",
              "      <td>71</td>\n",
              "      <td>71</td>\n",
              "      <td>74</td>\n",
              "    </tr>\n",
              "    <tr>\n",
              "      <th>1</th>\n",
              "      <td>1</td>\n",
              "      <td>female</td>\n",
              "      <td>group C</td>\n",
              "      <td>some college</td>\n",
              "      <td>standard</td>\n",
              "      <td>NaN</td>\n",
              "      <td>married</td>\n",
              "      <td>sometimes</td>\n",
              "      <td>yes</td>\n",
              "      <td>0.0</td>\n",
              "      <td>NaN</td>\n",
              "      <td>5 - 10</td>\n",
              "      <td>69</td>\n",
              "      <td>90</td>\n",
              "      <td>88</td>\n",
              "    </tr>\n",
              "    <tr>\n",
              "      <th>2</th>\n",
              "      <td>2</td>\n",
              "      <td>female</td>\n",
              "      <td>group B</td>\n",
              "      <td>master's degree</td>\n",
              "      <td>standard</td>\n",
              "      <td>none</td>\n",
              "      <td>single</td>\n",
              "      <td>sometimes</td>\n",
              "      <td>yes</td>\n",
              "      <td>4.0</td>\n",
              "      <td>school_bus</td>\n",
              "      <td>&lt; 5</td>\n",
              "      <td>87</td>\n",
              "      <td>93</td>\n",
              "      <td>91</td>\n",
              "    </tr>\n",
              "    <tr>\n",
              "      <th>3</th>\n",
              "      <td>3</td>\n",
              "      <td>male</td>\n",
              "      <td>group A</td>\n",
              "      <td>associate's degree</td>\n",
              "      <td>free/reduced</td>\n",
              "      <td>none</td>\n",
              "      <td>married</td>\n",
              "      <td>never</td>\n",
              "      <td>no</td>\n",
              "      <td>1.0</td>\n",
              "      <td>NaN</td>\n",
              "      <td>5 - 10</td>\n",
              "      <td>45</td>\n",
              "      <td>56</td>\n",
              "      <td>42</td>\n",
              "    </tr>\n",
              "    <tr>\n",
              "      <th>4</th>\n",
              "      <td>4</td>\n",
              "      <td>male</td>\n",
              "      <td>group C</td>\n",
              "      <td>some college</td>\n",
              "      <td>standard</td>\n",
              "      <td>none</td>\n",
              "      <td>married</td>\n",
              "      <td>sometimes</td>\n",
              "      <td>yes</td>\n",
              "      <td>0.0</td>\n",
              "      <td>school_bus</td>\n",
              "      <td>5 - 10</td>\n",
              "      <td>76</td>\n",
              "      <td>78</td>\n",
              "      <td>75</td>\n",
              "    </tr>\n",
              "  </tbody>\n",
              "</table>\n",
              "</div>\n",
              "    <div class=\"colab-df-buttons\">\n",
              "\n",
              "  <div class=\"colab-df-container\">\n",
              "    <button class=\"colab-df-convert\" onclick=\"convertToInteractive('df-626084b1-5fd3-479a-8ab4-476bebb49ad7')\"\n",
              "            title=\"Convert this dataframe to an interactive table.\"\n",
              "            style=\"display:none;\">\n",
              "\n",
              "  <svg xmlns=\"http://www.w3.org/2000/svg\" height=\"24px\" viewBox=\"0 -960 960 960\">\n",
              "    <path d=\"M120-120v-720h720v720H120Zm60-500h600v-160H180v160Zm220 220h160v-160H400v160Zm0 220h160v-160H400v160ZM180-400h160v-160H180v160Zm440 0h160v-160H620v160ZM180-180h160v-160H180v160Zm440 0h160v-160H620v160Z\"/>\n",
              "  </svg>\n",
              "    </button>\n",
              "\n",
              "  <style>\n",
              "    .colab-df-container {\n",
              "      display:flex;\n",
              "      gap: 12px;\n",
              "    }\n",
              "\n",
              "    .colab-df-convert {\n",
              "      background-color: #E8F0FE;\n",
              "      border: none;\n",
              "      border-radius: 50%;\n",
              "      cursor: pointer;\n",
              "      display: none;\n",
              "      fill: #1967D2;\n",
              "      height: 32px;\n",
              "      padding: 0 0 0 0;\n",
              "      width: 32px;\n",
              "    }\n",
              "\n",
              "    .colab-df-convert:hover {\n",
              "      background-color: #E2EBFA;\n",
              "      box-shadow: 0px 1px 2px rgba(60, 64, 67, 0.3), 0px 1px 3px 1px rgba(60, 64, 67, 0.15);\n",
              "      fill: #174EA6;\n",
              "    }\n",
              "\n",
              "    .colab-df-buttons div {\n",
              "      margin-bottom: 4px;\n",
              "    }\n",
              "\n",
              "    [theme=dark] .colab-df-convert {\n",
              "      background-color: #3B4455;\n",
              "      fill: #D2E3FC;\n",
              "    }\n",
              "\n",
              "    [theme=dark] .colab-df-convert:hover {\n",
              "      background-color: #434B5C;\n",
              "      box-shadow: 0px 1px 3px 1px rgba(0, 0, 0, 0.15);\n",
              "      filter: drop-shadow(0px 1px 2px rgba(0, 0, 0, 0.3));\n",
              "      fill: #FFFFFF;\n",
              "    }\n",
              "  </style>\n",
              "\n",
              "    <script>\n",
              "      const buttonEl =\n",
              "        document.querySelector('#df-626084b1-5fd3-479a-8ab4-476bebb49ad7 button.colab-df-convert');\n",
              "      buttonEl.style.display =\n",
              "        google.colab.kernel.accessAllowed ? 'block' : 'none';\n",
              "\n",
              "      async function convertToInteractive(key) {\n",
              "        const element = document.querySelector('#df-626084b1-5fd3-479a-8ab4-476bebb49ad7');\n",
              "        const dataTable =\n",
              "          await google.colab.kernel.invokeFunction('convertToInteractive',\n",
              "                                                    [key], {});\n",
              "        if (!dataTable) return;\n",
              "\n",
              "        const docLinkHtml = 'Like what you see? Visit the ' +\n",
              "          '<a target=\"_blank\" href=https://colab.research.google.com/notebooks/data_table.ipynb>data table notebook</a>'\n",
              "          + ' to learn more about interactive tables.';\n",
              "        element.innerHTML = '';\n",
              "        dataTable['output_type'] = 'display_data';\n",
              "        await google.colab.output.renderOutput(dataTable, element);\n",
              "        const docLink = document.createElement('div');\n",
              "        docLink.innerHTML = docLinkHtml;\n",
              "        element.appendChild(docLink);\n",
              "      }\n",
              "    </script>\n",
              "  </div>\n",
              "\n",
              "\n",
              "<div id=\"df-2b1b90ae-879c-4574-b8fc-eeede2e8e671\">\n",
              "  <button class=\"colab-df-quickchart\" onclick=\"quickchart('df-2b1b90ae-879c-4574-b8fc-eeede2e8e671')\"\n",
              "            title=\"Suggest charts\"\n",
              "            style=\"display:none;\">\n",
              "\n",
              "<svg xmlns=\"http://www.w3.org/2000/svg\" height=\"24px\"viewBox=\"0 0 24 24\"\n",
              "     width=\"24px\">\n",
              "    <g>\n",
              "        <path d=\"M19 3H5c-1.1 0-2 .9-2 2v14c0 1.1.9 2 2 2h14c1.1 0 2-.9 2-2V5c0-1.1-.9-2-2-2zM9 17H7v-7h2v7zm4 0h-2V7h2v10zm4 0h-2v-4h2v4z\"/>\n",
              "    </g>\n",
              "</svg>\n",
              "  </button>\n",
              "\n",
              "<style>\n",
              "  .colab-df-quickchart {\n",
              "      --bg-color: #E8F0FE;\n",
              "      --fill-color: #1967D2;\n",
              "      --hover-bg-color: #E2EBFA;\n",
              "      --hover-fill-color: #174EA6;\n",
              "      --disabled-fill-color: #AAA;\n",
              "      --disabled-bg-color: #DDD;\n",
              "  }\n",
              "\n",
              "  [theme=dark] .colab-df-quickchart {\n",
              "      --bg-color: #3B4455;\n",
              "      --fill-color: #D2E3FC;\n",
              "      --hover-bg-color: #434B5C;\n",
              "      --hover-fill-color: #FFFFFF;\n",
              "      --disabled-bg-color: #3B4455;\n",
              "      --disabled-fill-color: #666;\n",
              "  }\n",
              "\n",
              "  .colab-df-quickchart {\n",
              "    background-color: var(--bg-color);\n",
              "    border: none;\n",
              "    border-radius: 50%;\n",
              "    cursor: pointer;\n",
              "    display: none;\n",
              "    fill: var(--fill-color);\n",
              "    height: 32px;\n",
              "    padding: 0;\n",
              "    width: 32px;\n",
              "  }\n",
              "\n",
              "  .colab-df-quickchart:hover {\n",
              "    background-color: var(--hover-bg-color);\n",
              "    box-shadow: 0 1px 2px rgba(60, 64, 67, 0.3), 0 1px 3px 1px rgba(60, 64, 67, 0.15);\n",
              "    fill: var(--button-hover-fill-color);\n",
              "  }\n",
              "\n",
              "  .colab-df-quickchart-complete:disabled,\n",
              "  .colab-df-quickchart-complete:disabled:hover {\n",
              "    background-color: var(--disabled-bg-color);\n",
              "    fill: var(--disabled-fill-color);\n",
              "    box-shadow: none;\n",
              "  }\n",
              "\n",
              "  .colab-df-spinner {\n",
              "    border: 2px solid var(--fill-color);\n",
              "    border-color: transparent;\n",
              "    border-bottom-color: var(--fill-color);\n",
              "    animation:\n",
              "      spin 1s steps(1) infinite;\n",
              "  }\n",
              "\n",
              "  @keyframes spin {\n",
              "    0% {\n",
              "      border-color: transparent;\n",
              "      border-bottom-color: var(--fill-color);\n",
              "      border-left-color: var(--fill-color);\n",
              "    }\n",
              "    20% {\n",
              "      border-color: transparent;\n",
              "      border-left-color: var(--fill-color);\n",
              "      border-top-color: var(--fill-color);\n",
              "    }\n",
              "    30% {\n",
              "      border-color: transparent;\n",
              "      border-left-color: var(--fill-color);\n",
              "      border-top-color: var(--fill-color);\n",
              "      border-right-color: var(--fill-color);\n",
              "    }\n",
              "    40% {\n",
              "      border-color: transparent;\n",
              "      border-right-color: var(--fill-color);\n",
              "      border-top-color: var(--fill-color);\n",
              "    }\n",
              "    60% {\n",
              "      border-color: transparent;\n",
              "      border-right-color: var(--fill-color);\n",
              "    }\n",
              "    80% {\n",
              "      border-color: transparent;\n",
              "      border-right-color: var(--fill-color);\n",
              "      border-bottom-color: var(--fill-color);\n",
              "    }\n",
              "    90% {\n",
              "      border-color: transparent;\n",
              "      border-bottom-color: var(--fill-color);\n",
              "    }\n",
              "  }\n",
              "</style>\n",
              "\n",
              "  <script>\n",
              "    async function quickchart(key) {\n",
              "      const quickchartButtonEl =\n",
              "        document.querySelector('#' + key + ' button');\n",
              "      quickchartButtonEl.disabled = true;  // To prevent multiple clicks.\n",
              "      quickchartButtonEl.classList.add('colab-df-spinner');\n",
              "      try {\n",
              "        const charts = await google.colab.kernel.invokeFunction(\n",
              "            'suggestCharts', [key], {});\n",
              "      } catch (error) {\n",
              "        console.error('Error during call to suggestCharts:', error);\n",
              "      }\n",
              "      quickchartButtonEl.classList.remove('colab-df-spinner');\n",
              "      quickchartButtonEl.classList.add('colab-df-quickchart-complete');\n",
              "    }\n",
              "    (() => {\n",
              "      let quickchartButtonEl =\n",
              "        document.querySelector('#df-2b1b90ae-879c-4574-b8fc-eeede2e8e671 button');\n",
              "      quickchartButtonEl.style.display =\n",
              "        google.colab.kernel.accessAllowed ? 'block' : 'none';\n",
              "    })();\n",
              "  </script>\n",
              "</div>\n",
              "    </div>\n",
              "  </div>\n"
            ],
            "application/vnd.google.colaboratory.intrinsic+json": {
              "type": "dataframe",
              "variable_name": "data",
              "summary": "{\n  \"name\": \"data\",\n  \"rows\": 30641,\n  \"fields\": [\n    {\n      \"column\": \"Unnamed: 0\",\n      \"properties\": {\n        \"dtype\": \"number\",\n        \"std\": 288,\n        \"min\": 0,\n        \"max\": 999,\n        \"num_unique_values\": 1000,\n        \"samples\": [\n          549,\n          773,\n          776\n        ],\n        \"semantic_type\": \"\",\n        \"description\": \"\"\n      }\n    },\n    {\n      \"column\": \"Gender\",\n      \"properties\": {\n        \"dtype\": \"category\",\n        \"num_unique_values\": 2,\n        \"samples\": [\n          \"male\",\n          \"female\"\n        ],\n        \"semantic_type\": \"\",\n        \"description\": \"\"\n      }\n    },\n    {\n      \"column\": \"EthnicGroup\",\n      \"properties\": {\n        \"dtype\": \"category\",\n        \"num_unique_values\": 5,\n        \"samples\": [\n          \"group B\",\n          \"group E\"\n        ],\n        \"semantic_type\": \"\",\n        \"description\": \"\"\n      }\n    },\n    {\n      \"column\": \"ParentEduc\",\n      \"properties\": {\n        \"dtype\": \"category\",\n        \"num_unique_values\": 6,\n        \"samples\": [\n          \"bachelor's degree\",\n          \"some college\"\n        ],\n        \"semantic_type\": \"\",\n        \"description\": \"\"\n      }\n    },\n    {\n      \"column\": \"LunchType\",\n      \"properties\": {\n        \"dtype\": \"category\",\n        \"num_unique_values\": 2,\n        \"samples\": [\n          \"free/reduced\",\n          \"standard\"\n        ],\n        \"semantic_type\": \"\",\n        \"description\": \"\"\n      }\n    },\n    {\n      \"column\": \"TestPrep\",\n      \"properties\": {\n        \"dtype\": \"category\",\n        \"num_unique_values\": 2,\n        \"samples\": [\n          \"completed\",\n          \"none\"\n        ],\n        \"semantic_type\": \"\",\n        \"description\": \"\"\n      }\n    },\n    {\n      \"column\": \"ParentMaritalStatus\",\n      \"properties\": {\n        \"dtype\": \"category\",\n        \"num_unique_values\": 4,\n        \"samples\": [\n          \"single\",\n          \"divorced\"\n        ],\n        \"semantic_type\": \"\",\n        \"description\": \"\"\n      }\n    },\n    {\n      \"column\": \"PracticeSport\",\n      \"properties\": {\n        \"dtype\": \"category\",\n        \"num_unique_values\": 3,\n        \"samples\": [\n          \"regularly\",\n          \"sometimes\"\n        ],\n        \"semantic_type\": \"\",\n        \"description\": \"\"\n      }\n    },\n    {\n      \"column\": \"IsFirstChild\",\n      \"properties\": {\n        \"dtype\": \"category\",\n        \"num_unique_values\": 2,\n        \"samples\": [\n          \"no\",\n          \"yes\"\n        ],\n        \"semantic_type\": \"\",\n        \"description\": \"\"\n      }\n    },\n    {\n      \"column\": \"NrSiblings\",\n      \"properties\": {\n        \"dtype\": \"number\",\n        \"std\": 1.4582424759686543,\n        \"min\": 0.0,\n        \"max\": 7.0,\n        \"num_unique_values\": 8,\n        \"samples\": [\n          0.0,\n          5.0\n        ],\n        \"semantic_type\": \"\",\n        \"description\": \"\"\n      }\n    },\n    {\n      \"column\": \"TransportMeans\",\n      \"properties\": {\n        \"dtype\": \"category\",\n        \"num_unique_values\": 2,\n        \"samples\": [\n          \"private\",\n          \"school_bus\"\n        ],\n        \"semantic_type\": \"\",\n        \"description\": \"\"\n      }\n    },\n    {\n      \"column\": \"WklyStudyHours\",\n      \"properties\": {\n        \"dtype\": \"category\",\n        \"num_unique_values\": 3,\n        \"samples\": [\n          \"< 5\",\n          \"5 - 10\"\n        ],\n        \"semantic_type\": \"\",\n        \"description\": \"\"\n      }\n    },\n    {\n      \"column\": \"MathScore\",\n      \"properties\": {\n        \"dtype\": \"number\",\n        \"std\": 15,\n        \"min\": 0,\n        \"max\": 100,\n        \"num_unique_values\": 95,\n        \"samples\": [\n          36,\n          70\n        ],\n        \"semantic_type\": \"\",\n        \"description\": \"\"\n      }\n    },\n    {\n      \"column\": \"ReadingScore\",\n      \"properties\": {\n        \"dtype\": \"number\",\n        \"std\": 14,\n        \"min\": 10,\n        \"max\": 100,\n        \"num_unique_values\": 90,\n        \"samples\": [\n          48,\n          65\n        ],\n        \"semantic_type\": \"\",\n        \"description\": \"\"\n      }\n    },\n    {\n      \"column\": \"WritingScore\",\n      \"properties\": {\n        \"dtype\": \"number\",\n        \"std\": 15,\n        \"min\": 4,\n        \"max\": 100,\n        \"num_unique_values\": 93,\n        \"samples\": [\n          10,\n          76\n        ],\n        \"semantic_type\": \"\",\n        \"description\": \"\"\n      }\n    }\n  ]\n}"
            }
          },
          "metadata": {},
          "execution_count": 3
        }
      ],
      "source": [
        "import pandas as pd\n",
        "import numpy as np\n",
        "data = pd.read_csv('Expanded_data_with_more_features.csv')\n",
        "data.head()"
      ]
    },
    {
      "cell_type": "code",
      "source": [
        "#  1. Скільки студентів і студенток у наборі даних?\n",
        "amountOfMalestd = len(data[data[\"Gender\"] == \"male\"])\n",
        "amountOfFemalestd = len(data[data[\"Gender\"] == \"female\"])\n",
        "print(\"Кількість студентів: \", amountOfMalestd)\n",
        "print(\"Кількість студенток: \", amountOfFemalestd)"
      ],
      "metadata": {
        "colab": {
          "base_uri": "https://localhost:8080/"
        },
        "id": "Wr--qBh_AbtI",
        "outputId": "19fc627c-6321-4293-923c-ae8dda4e549a"
      },
      "execution_count": 6,
      "outputs": [
        {
          "output_type": "stream",
          "name": "stdout",
          "text": [
            "Кількість студентів:  15217\n",
            "Кількість студенток:  15424\n"
          ]
        }
      ]
    },
    {
      "cell_type": "code",
      "source": [
        "#  2. Який відсоток студентів чоловічої статі в наборі даних?\n",
        "amountOfStd = len(data)\n",
        "percentage_male_students = (amountOfMalestd / amountOfStd) * 100\n",
        "\n",
        "print(\"Відсоток студентів чоловічої статі:\", percentage_male_students, \"%\")\n"
      ],
      "metadata": {
        "colab": {
          "base_uri": "https://localhost:8080/"
        },
        "id": "EdI_Bpn_Aqi2",
        "outputId": "14c035d0-7ae6-4af0-bf12-07455e1b2c87"
      },
      "execution_count": 7,
      "outputs": [
        {
          "output_type": "stream",
          "name": "stdout",
          "text": [
            "Відсоток студентів чоловічої статі: 49.6622172905584 %\n"
          ]
        }
      ]
    },
    {
      "cell_type": "code",
      "source": [
        "  #  3. Який відсоток студенток у наборі даних?\n",
        "percentage_female_students = (amountOfFemalestd / amountOfStd) * 100\n",
        "\n",
        "print(\"Відсоток студенток:\", percentage_female_students, \"%\")"
      ],
      "metadata": {
        "colab": {
          "base_uri": "https://localhost:8080/"
        },
        "id": "0Lct_58lCoF1",
        "outputId": "c1527479-3e38-4708-ae3a-104a6f7f4d51"
      },
      "execution_count": 44,
      "outputs": [
        {
          "output_type": "stream",
          "name": "stdout",
          "text": [
            "Відсоток студенток: 50.337782709441605 %\n"
          ]
        }
      ]
    },
    {
      "cell_type": "code",
      "source": [
        "# 4. Яка етнічна група має найвищий середній бал з математики?\n",
        "data.groupby('EthnicGroup')[\"MathScore\"].mean().sort_values(ascending=False)[:1]"
      ],
      "metadata": {
        "colab": {
          "base_uri": "https://localhost:8080/"
        },
        "id": "QxPPjU37C-6V",
        "outputId": "2318a0f5-76e6-478d-f729-6081585504e6"
      },
      "execution_count": 10,
      "outputs": [
        {
          "output_type": "execute_result",
          "data": {
            "text/plain": [
              "EthnicGroup\n",
              "group E    75.298936\n",
              "Name: MathScore, dtype: float64"
            ]
          },
          "metadata": {},
          "execution_count": 10
        }
      ]
    },
    {
      "cell_type": "code",
      "source": [
        "# 5. Яка етнічна група має найвищий середній бал читання?\n",
        "data.groupby('EthnicGroup')[\"ReadingScore\"].mean().sort_values(ascending=False)[:1]"
      ],
      "metadata": {
        "colab": {
          "base_uri": "https://localhost:8080/"
        },
        "id": "pJvrP6dmDXhL",
        "outputId": "6d058429-891c-428d-b94b-4b16c88143f5"
      },
      "execution_count": 12,
      "outputs": [
        {
          "output_type": "execute_result",
          "data": {
            "text/plain": [
              "EthnicGroup\n",
              "group E    74.251423\n",
              "Name: ReadingScore, dtype: float64"
            ]
          },
          "metadata": {},
          "execution_count": 12
        }
      ]
    },
    {
      "cell_type": "code",
      "source": [
        "# 6. Яка етнічна група має найвищий середній бал з письма?\n",
        "data.groupby('EthnicGroup')[\"WritingScore\"].mean().sort_values(ascending=False)[:1]"
      ],
      "metadata": {
        "colab": {
          "base_uri": "https://localhost:8080/"
        },
        "id": "a7Qp_pM0Dt0U",
        "outputId": "f60408a8-a4ab-44b1-e450-639dc1350ec6"
      },
      "execution_count": 13,
      "outputs": [
        {
          "output_type": "execute_result",
          "data": {
            "text/plain": [
              "EthnicGroup\n",
              "group E    72.67706\n",
              "Name: WritingScore, dtype: float64"
            ]
          },
          "metadata": {},
          "execution_count": 13
        }
      ]
    },
    {
      "cell_type": "code",
      "source": [
        "# 7. Який середній бал з математики для студентів, які закінчили курс підготовки до тесту?\n",
        "filtered_data = data[data[\"TestPrep\"] == \"completed\"]\n",
        "average_math_score = filtered_data[\"MathScore\"].mean()\n",
        "print(\"Середній бал з математики для учнів, які закінчили курс підготовки до тесту:\", average_math_score)\n"
      ],
      "metadata": {
        "colab": {
          "base_uri": "https://localhost:8080/"
        },
        "id": "riaSGTJ6D6jP",
        "outputId": "a57fae51-d44d-4718-c28d-800136d9617b"
      },
      "execution_count": 20,
      "outputs": [
        {
          "output_type": "stream",
          "name": "stdout",
          "text": [
            "Середній бал з математики для учнів, які закінчили курс підготовки до тесту: 69.5466599698644\n"
          ]
        }
      ]
    },
    {
      "cell_type": "code",
      "source": [
        "# 8. Який середній бал з читання для студентів, які пройшли курс підготовки до тесту?\n",
        "average_reading_score = filtered_data[\"ReadingScore\"].mean()\n",
        "print(\"Середній бал з читання для учнів, які закінчили курс підготовки до тесту:\", average_reading_score)"
      ],
      "metadata": {
        "colab": {
          "base_uri": "https://localhost:8080/"
        },
        "id": "05Ls5xMtLViL",
        "outputId": "9381fd8c-3e14-4d80-f2a5-d33af607a2f5"
      },
      "execution_count": 21,
      "outputs": [
        {
          "output_type": "stream",
          "name": "stdout",
          "text": [
            "Середній бал з математики для учнів, які закінчили курс підготовки до тесту: 73.73299849321948\n"
          ]
        }
      ]
    },
    {
      "cell_type": "code",
      "source": [
        "# 9. Який середній бал для студентів, які закінчили курс підготовки до тесту?\n",
        "data['MeanTestsScore'] = (data['MathScore'] + data['ReadingScore'] + data['WritingScore'])/3\n",
        "print(\"Cередній бал для студентів, які закінчили курс підготовки до тесту:\", data.query(\"TestPrep == 'completed'\")[\"MeanTestsScore\"].mean())"
      ],
      "metadata": {
        "colab": {
          "base_uri": "https://localhost:8080/"
        },
        "id": "YKow_jhsLjzP",
        "outputId": "4aa774dc-0237-42f9-f750-875e209f68f1"
      },
      "execution_count": 24,
      "outputs": [
        {
          "output_type": "stream",
          "name": "stdout",
          "text": [
            "Cередній бал для студентів, які закінчили курс підготовки до тесту: 72.66097438473129\n"
          ]
        }
      ]
    },
    {
      "cell_type": "code",
      "source": [
        "# 10. Скільки студентів мають одружених батьків?\n",
        "print(\"Кількість студентів які мають одружених батьків:\", data.query(\"ParentMaritalStatus == 'married'\").count()['ParentMaritalStatus'])"
      ],
      "metadata": {
        "colab": {
          "base_uri": "https://localhost:8080/"
        },
        "id": "XpXIQuCdMeAq",
        "outputId": "b927b772-ccf2-4fd1-e06e-09a031fcdd56"
      },
      "execution_count": 25,
      "outputs": [
        {
          "output_type": "stream",
          "name": "stdout",
          "text": [
            "Кількість студентів які мають одружених батьків: 16844\n"
          ]
        }
      ]
    },
    {
      "cell_type": "code",
      "source": [
        "# 11. Скільки студентів мають батьків-одинаків?\n",
        "print(\"Кількість студентів які мають батьків-одинаків:\", data.query(\"ParentMaritalStatus == 'single'\").count()['ParentMaritalStatus'])"
      ],
      "metadata": {
        "colab": {
          "base_uri": "https://localhost:8080/"
        },
        "id": "4HPdoXRfNsuZ",
        "outputId": "4a78099b-3fe2-4288-d6b6-6d2d503e1d78"
      },
      "execution_count": 27,
      "outputs": [
        {
          "output_type": "stream",
          "name": "stdout",
          "text": [
            "Кількість студентів які мають батьків-одинаків: 7097\n"
          ]
        }
      ]
    },
    {
      "cell_type": "code",
      "source": [
        "# 12. Чи студенти, які регулярно займаються спортом, мають вищі середні результати з математики, ніж ті, хто ніколи не займається спортом?\n",
        "sporty_students = data[data['PracticeSport'] == \"regularly\"]['MathScore'].mean()\n",
        "non_sporty_students = data[data['PracticeSport'] == \"never\"]['MathScore'].mean()\n",
        "sporty_students>non_sporty_students"
      ],
      "metadata": {
        "colab": {
          "base_uri": "https://localhost:8080/"
        },
        "id": "ZP7uEJ02OD1x",
        "outputId": "41fba2b4-ee9b-483d-b54a-1a5df8a1a58f"
      },
      "execution_count": 34,
      "outputs": [
        {
          "output_type": "execute_result",
          "data": {
            "text/plain": [
              "True"
            ]
          },
          "metadata": {},
          "execution_count": 34
        }
      ]
    },
    {
      "cell_type": "code",
      "source": [
        "# 13. Чи студенти, які регулярно займаються спортом, мають вищі середні результати читання, ніж ті, хто ніколи не займається спортом?\n",
        "sporty_students = data[data['PracticeSport'] == \"regularly\"]['ReadingScore'].mean()\n",
        "non_sporty_students = data[data['PracticeSport'] == \"never\"]['ReadingScore'].mean()\n",
        "sporty_students>non_sporty_students"
      ],
      "metadata": {
        "colab": {
          "base_uri": "https://localhost:8080/"
        },
        "id": "C8bERaeEPSNK",
        "outputId": "1aeffe36-f206-4759-e48a-bd7b627860a1"
      },
      "execution_count": 35,
      "outputs": [
        {
          "output_type": "execute_result",
          "data": {
            "text/plain": [
              "True"
            ]
          },
          "metadata": {},
          "execution_count": 35
        }
      ]
    },
    {
      "cell_type": "code",
      "source": [
        "# 14. Скільки учнів користується шкільним автобусом, щоб дістатися до школи?\n",
        "bus_users_count = data[data['TransportMeans'] == \"school_bus\"].shape[0]\n",
        "print(\"Кількість учнів, які користуються шкільним автобусом:\", bus_users_count)"
      ],
      "metadata": {
        "colab": {
          "base_uri": "https://localhost:8080/"
        },
        "id": "41hX9mG1Pjh_",
        "outputId": "6db5aab2-b8cc-474e-e9da-a7e4df68f5f5"
      },
      "execution_count": 37,
      "outputs": [
        {
          "output_type": "stream",
          "name": "stdout",
          "text": [
            "Кількість учнів, які користуються шкільним автобусом: 16145\n"
          ]
        }
      ]
    },
    {
      "cell_type": "code",
      "source": [
        "# 15. Скільки учнів користується приватним транспортом, щоб дістатися до школи?\n",
        "private_users_count = data[data['TransportMeans'] == \"private\"].shape[0]\n",
        "print(\"Кількість учнів, які користуються приватним транспортом:\", private_users_count)"
      ],
      "metadata": {
        "colab": {
          "base_uri": "https://localhost:8080/"
        },
        "id": "JfjbJaVXQBJ1",
        "outputId": "38ee6b06-f9a9-461f-c762-6b94a94559fc"
      },
      "execution_count": 38,
      "outputs": [
        {
          "output_type": "stream",
          "name": "stdout",
          "text": [
            "Кількість учнів, які користуються приватним транспортом: 11362\n"
          ]
        }
      ]
    },
    {
      "cell_type": "code",
      "source": [
        "# Задача класифікації 5 балів\n",
        "#    Передбачте, чи завершив студент курс підготовки до іспиту, на основі його демографічних та академічних даних.\n",
        "#    Вхідні дані:\n",
        "# Gender, EthnicGroup, ParentEduc, LunchType, ParentMaritalStatus, PracticeSport, IsFirstChild, NrSiblings, TransportMeans, WklyStudyHours, MathScore, ReadingScore, WritingScore\n",
        "#    Результат: TestPrep\n",
        "\n",
        "\n",
        "from sklearn.preprocessing import StandardScaler\n",
        "import sklearn as sk\n",
        "import matplotlib.pyplot as plt\n",
        "\n",
        "from sklearn.linear_model import LinearRegression, LogisticRegression\n",
        "from sklearn.model_selection import train_test_split\n",
        "from sklearn.pipeline import Pipeline\n",
        "from sklearn.preprocessing import StandardScaler, OneHotEncoder\n",
        "from sklearn.compose import ColumnTransformer\n",
        "from sklearn.metrics import mean_squared_error\n",
        "from sklearn.impute import SimpleImputer\n",
        "from sklearn.model_selection import cross_val_score\n",
        "from sklearn.model_selection import ShuffleSplit\n",
        "cols = [\n",
        "    'Gender',\n",
        "    'EthnicGroup',\n",
        "    'ParentEduc',\n",
        "    'LunchType',\n",
        "    'ParentMaritalStatus',\n",
        "    'PracticeSport',\n",
        "    'IsFirstChild',\n",
        "    'NrSiblings',\n",
        "    'TransportMeans',\n",
        "    'WklyStudyHours',\n",
        "    'MathScore',\n",
        "    'ReadingScore',\n",
        "    'WritingScore'\n",
        "]\n",
        "data['IsTestCompleted'] = data['TestPrep'] == 'completed'\n",
        "data[cols + ['IsTestCompleted']]"
      ],
      "metadata": {
        "colab": {
          "base_uri": "https://localhost:8080/",
          "height": 424
        },
        "id": "JAZzFaJHQZxE",
        "outputId": "7e286ea2-5c11-4328-f890-ae5eb7cf5352"
      },
      "execution_count": 40,
      "outputs": [
        {
          "output_type": "execute_result",
          "data": {
            "text/plain": [
              "       Gender EthnicGroup          ParentEduc     LunchType  \\\n",
              "0      female         NaN   bachelor's degree      standard   \n",
              "1      female     group C        some college      standard   \n",
              "2      female     group B     master's degree      standard   \n",
              "3        male     group A  associate's degree  free/reduced   \n",
              "4        male     group C        some college      standard   \n",
              "...       ...         ...                 ...           ...   \n",
              "30636  female     group D         high school      standard   \n",
              "30637    male     group E         high school      standard   \n",
              "30638  female         NaN         high school  free/reduced   \n",
              "30639  female     group D  associate's degree      standard   \n",
              "30640    male     group B        some college      standard   \n",
              "\n",
              "      ParentMaritalStatus PracticeSport IsFirstChild  NrSiblings  \\\n",
              "0                 married     regularly          yes         3.0   \n",
              "1                 married     sometimes          yes         0.0   \n",
              "2                  single     sometimes          yes         4.0   \n",
              "3                 married         never           no         1.0   \n",
              "4                 married     sometimes          yes         0.0   \n",
              "...                   ...           ...          ...         ...   \n",
              "30636              single     sometimes           no         2.0   \n",
              "30637              single     regularly           no         1.0   \n",
              "30638             married     sometimes           no         1.0   \n",
              "30639             married     regularly           no         3.0   \n",
              "30640             married         never           no         1.0   \n",
              "\n",
              "      TransportMeans WklyStudyHours  MathScore  ReadingScore  WritingScore  \\\n",
              "0         school_bus            < 5         71            71            74   \n",
              "1                NaN         5 - 10         69            90            88   \n",
              "2         school_bus            < 5         87            93            91   \n",
              "3                NaN         5 - 10         45            56            42   \n",
              "4         school_bus         5 - 10         76            78            75   \n",
              "...              ...            ...        ...           ...           ...   \n",
              "30636     school_bus         5 - 10         59            61            65   \n",
              "30637        private         5 - 10         58            53            51   \n",
              "30638        private         5 - 10         61            70            67   \n",
              "30639     school_bus         5 - 10         82            90            93   \n",
              "30640     school_bus         5 - 10         64            60            58   \n",
              "\n",
              "       IsTestCompleted  \n",
              "0                False  \n",
              "1                False  \n",
              "2                False  \n",
              "3                False  \n",
              "4                False  \n",
              "...                ...  \n",
              "30636            False  \n",
              "30637            False  \n",
              "30638             True  \n",
              "30639             True  \n",
              "30640            False  \n",
              "\n",
              "[30641 rows x 14 columns]"
            ],
            "text/html": [
              "\n",
              "  <div id=\"df-8d76deb5-f467-4d71-a09b-84f87b4d5505\" class=\"colab-df-container\">\n",
              "    <div>\n",
              "<style scoped>\n",
              "    .dataframe tbody tr th:only-of-type {\n",
              "        vertical-align: middle;\n",
              "    }\n",
              "\n",
              "    .dataframe tbody tr th {\n",
              "        vertical-align: top;\n",
              "    }\n",
              "\n",
              "    .dataframe thead th {\n",
              "        text-align: right;\n",
              "    }\n",
              "</style>\n",
              "<table border=\"1\" class=\"dataframe\">\n",
              "  <thead>\n",
              "    <tr style=\"text-align: right;\">\n",
              "      <th></th>\n",
              "      <th>Gender</th>\n",
              "      <th>EthnicGroup</th>\n",
              "      <th>ParentEduc</th>\n",
              "      <th>LunchType</th>\n",
              "      <th>ParentMaritalStatus</th>\n",
              "      <th>PracticeSport</th>\n",
              "      <th>IsFirstChild</th>\n",
              "      <th>NrSiblings</th>\n",
              "      <th>TransportMeans</th>\n",
              "      <th>WklyStudyHours</th>\n",
              "      <th>MathScore</th>\n",
              "      <th>ReadingScore</th>\n",
              "      <th>WritingScore</th>\n",
              "      <th>IsTestCompleted</th>\n",
              "    </tr>\n",
              "  </thead>\n",
              "  <tbody>\n",
              "    <tr>\n",
              "      <th>0</th>\n",
              "      <td>female</td>\n",
              "      <td>NaN</td>\n",
              "      <td>bachelor's degree</td>\n",
              "      <td>standard</td>\n",
              "      <td>married</td>\n",
              "      <td>regularly</td>\n",
              "      <td>yes</td>\n",
              "      <td>3.0</td>\n",
              "      <td>school_bus</td>\n",
              "      <td>&lt; 5</td>\n",
              "      <td>71</td>\n",
              "      <td>71</td>\n",
              "      <td>74</td>\n",
              "      <td>False</td>\n",
              "    </tr>\n",
              "    <tr>\n",
              "      <th>1</th>\n",
              "      <td>female</td>\n",
              "      <td>group C</td>\n",
              "      <td>some college</td>\n",
              "      <td>standard</td>\n",
              "      <td>married</td>\n",
              "      <td>sometimes</td>\n",
              "      <td>yes</td>\n",
              "      <td>0.0</td>\n",
              "      <td>NaN</td>\n",
              "      <td>5 - 10</td>\n",
              "      <td>69</td>\n",
              "      <td>90</td>\n",
              "      <td>88</td>\n",
              "      <td>False</td>\n",
              "    </tr>\n",
              "    <tr>\n",
              "      <th>2</th>\n",
              "      <td>female</td>\n",
              "      <td>group B</td>\n",
              "      <td>master's degree</td>\n",
              "      <td>standard</td>\n",
              "      <td>single</td>\n",
              "      <td>sometimes</td>\n",
              "      <td>yes</td>\n",
              "      <td>4.0</td>\n",
              "      <td>school_bus</td>\n",
              "      <td>&lt; 5</td>\n",
              "      <td>87</td>\n",
              "      <td>93</td>\n",
              "      <td>91</td>\n",
              "      <td>False</td>\n",
              "    </tr>\n",
              "    <tr>\n",
              "      <th>3</th>\n",
              "      <td>male</td>\n",
              "      <td>group A</td>\n",
              "      <td>associate's degree</td>\n",
              "      <td>free/reduced</td>\n",
              "      <td>married</td>\n",
              "      <td>never</td>\n",
              "      <td>no</td>\n",
              "      <td>1.0</td>\n",
              "      <td>NaN</td>\n",
              "      <td>5 - 10</td>\n",
              "      <td>45</td>\n",
              "      <td>56</td>\n",
              "      <td>42</td>\n",
              "      <td>False</td>\n",
              "    </tr>\n",
              "    <tr>\n",
              "      <th>4</th>\n",
              "      <td>male</td>\n",
              "      <td>group C</td>\n",
              "      <td>some college</td>\n",
              "      <td>standard</td>\n",
              "      <td>married</td>\n",
              "      <td>sometimes</td>\n",
              "      <td>yes</td>\n",
              "      <td>0.0</td>\n",
              "      <td>school_bus</td>\n",
              "      <td>5 - 10</td>\n",
              "      <td>76</td>\n",
              "      <td>78</td>\n",
              "      <td>75</td>\n",
              "      <td>False</td>\n",
              "    </tr>\n",
              "    <tr>\n",
              "      <th>...</th>\n",
              "      <td>...</td>\n",
              "      <td>...</td>\n",
              "      <td>...</td>\n",
              "      <td>...</td>\n",
              "      <td>...</td>\n",
              "      <td>...</td>\n",
              "      <td>...</td>\n",
              "      <td>...</td>\n",
              "      <td>...</td>\n",
              "      <td>...</td>\n",
              "      <td>...</td>\n",
              "      <td>...</td>\n",
              "      <td>...</td>\n",
              "      <td>...</td>\n",
              "    </tr>\n",
              "    <tr>\n",
              "      <th>30636</th>\n",
              "      <td>female</td>\n",
              "      <td>group D</td>\n",
              "      <td>high school</td>\n",
              "      <td>standard</td>\n",
              "      <td>single</td>\n",
              "      <td>sometimes</td>\n",
              "      <td>no</td>\n",
              "      <td>2.0</td>\n",
              "      <td>school_bus</td>\n",
              "      <td>5 - 10</td>\n",
              "      <td>59</td>\n",
              "      <td>61</td>\n",
              "      <td>65</td>\n",
              "      <td>False</td>\n",
              "    </tr>\n",
              "    <tr>\n",
              "      <th>30637</th>\n",
              "      <td>male</td>\n",
              "      <td>group E</td>\n",
              "      <td>high school</td>\n",
              "      <td>standard</td>\n",
              "      <td>single</td>\n",
              "      <td>regularly</td>\n",
              "      <td>no</td>\n",
              "      <td>1.0</td>\n",
              "      <td>private</td>\n",
              "      <td>5 - 10</td>\n",
              "      <td>58</td>\n",
              "      <td>53</td>\n",
              "      <td>51</td>\n",
              "      <td>False</td>\n",
              "    </tr>\n",
              "    <tr>\n",
              "      <th>30638</th>\n",
              "      <td>female</td>\n",
              "      <td>NaN</td>\n",
              "      <td>high school</td>\n",
              "      <td>free/reduced</td>\n",
              "      <td>married</td>\n",
              "      <td>sometimes</td>\n",
              "      <td>no</td>\n",
              "      <td>1.0</td>\n",
              "      <td>private</td>\n",
              "      <td>5 - 10</td>\n",
              "      <td>61</td>\n",
              "      <td>70</td>\n",
              "      <td>67</td>\n",
              "      <td>True</td>\n",
              "    </tr>\n",
              "    <tr>\n",
              "      <th>30639</th>\n",
              "      <td>female</td>\n",
              "      <td>group D</td>\n",
              "      <td>associate's degree</td>\n",
              "      <td>standard</td>\n",
              "      <td>married</td>\n",
              "      <td>regularly</td>\n",
              "      <td>no</td>\n",
              "      <td>3.0</td>\n",
              "      <td>school_bus</td>\n",
              "      <td>5 - 10</td>\n",
              "      <td>82</td>\n",
              "      <td>90</td>\n",
              "      <td>93</td>\n",
              "      <td>True</td>\n",
              "    </tr>\n",
              "    <tr>\n",
              "      <th>30640</th>\n",
              "      <td>male</td>\n",
              "      <td>group B</td>\n",
              "      <td>some college</td>\n",
              "      <td>standard</td>\n",
              "      <td>married</td>\n",
              "      <td>never</td>\n",
              "      <td>no</td>\n",
              "      <td>1.0</td>\n",
              "      <td>school_bus</td>\n",
              "      <td>5 - 10</td>\n",
              "      <td>64</td>\n",
              "      <td>60</td>\n",
              "      <td>58</td>\n",
              "      <td>False</td>\n",
              "    </tr>\n",
              "  </tbody>\n",
              "</table>\n",
              "<p>30641 rows × 14 columns</p>\n",
              "</div>\n",
              "    <div class=\"colab-df-buttons\">\n",
              "\n",
              "  <div class=\"colab-df-container\">\n",
              "    <button class=\"colab-df-convert\" onclick=\"convertToInteractive('df-8d76deb5-f467-4d71-a09b-84f87b4d5505')\"\n",
              "            title=\"Convert this dataframe to an interactive table.\"\n",
              "            style=\"display:none;\">\n",
              "\n",
              "  <svg xmlns=\"http://www.w3.org/2000/svg\" height=\"24px\" viewBox=\"0 -960 960 960\">\n",
              "    <path d=\"M120-120v-720h720v720H120Zm60-500h600v-160H180v160Zm220 220h160v-160H400v160Zm0 220h160v-160H400v160ZM180-400h160v-160H180v160Zm440 0h160v-160H620v160ZM180-180h160v-160H180v160Zm440 0h160v-160H620v160Z\"/>\n",
              "  </svg>\n",
              "    </button>\n",
              "\n",
              "  <style>\n",
              "    .colab-df-container {\n",
              "      display:flex;\n",
              "      gap: 12px;\n",
              "    }\n",
              "\n",
              "    .colab-df-convert {\n",
              "      background-color: #E8F0FE;\n",
              "      border: none;\n",
              "      border-radius: 50%;\n",
              "      cursor: pointer;\n",
              "      display: none;\n",
              "      fill: #1967D2;\n",
              "      height: 32px;\n",
              "      padding: 0 0 0 0;\n",
              "      width: 32px;\n",
              "    }\n",
              "\n",
              "    .colab-df-convert:hover {\n",
              "      background-color: #E2EBFA;\n",
              "      box-shadow: 0px 1px 2px rgba(60, 64, 67, 0.3), 0px 1px 3px 1px rgba(60, 64, 67, 0.15);\n",
              "      fill: #174EA6;\n",
              "    }\n",
              "\n",
              "    .colab-df-buttons div {\n",
              "      margin-bottom: 4px;\n",
              "    }\n",
              "\n",
              "    [theme=dark] .colab-df-convert {\n",
              "      background-color: #3B4455;\n",
              "      fill: #D2E3FC;\n",
              "    }\n",
              "\n",
              "    [theme=dark] .colab-df-convert:hover {\n",
              "      background-color: #434B5C;\n",
              "      box-shadow: 0px 1px 3px 1px rgba(0, 0, 0, 0.15);\n",
              "      filter: drop-shadow(0px 1px 2px rgba(0, 0, 0, 0.3));\n",
              "      fill: #FFFFFF;\n",
              "    }\n",
              "  </style>\n",
              "\n",
              "    <script>\n",
              "      const buttonEl =\n",
              "        document.querySelector('#df-8d76deb5-f467-4d71-a09b-84f87b4d5505 button.colab-df-convert');\n",
              "      buttonEl.style.display =\n",
              "        google.colab.kernel.accessAllowed ? 'block' : 'none';\n",
              "\n",
              "      async function convertToInteractive(key) {\n",
              "        const element = document.querySelector('#df-8d76deb5-f467-4d71-a09b-84f87b4d5505');\n",
              "        const dataTable =\n",
              "          await google.colab.kernel.invokeFunction('convertToInteractive',\n",
              "                                                    [key], {});\n",
              "        if (!dataTable) return;\n",
              "\n",
              "        const docLinkHtml = 'Like what you see? Visit the ' +\n",
              "          '<a target=\"_blank\" href=https://colab.research.google.com/notebooks/data_table.ipynb>data table notebook</a>'\n",
              "          + ' to learn more about interactive tables.';\n",
              "        element.innerHTML = '';\n",
              "        dataTable['output_type'] = 'display_data';\n",
              "        await google.colab.output.renderOutput(dataTable, element);\n",
              "        const docLink = document.createElement('div');\n",
              "        docLink.innerHTML = docLinkHtml;\n",
              "        element.appendChild(docLink);\n",
              "      }\n",
              "    </script>\n",
              "  </div>\n",
              "\n",
              "\n",
              "<div id=\"df-c7d2b53d-97b1-4491-bd04-060d29191b01\">\n",
              "  <button class=\"colab-df-quickchart\" onclick=\"quickchart('df-c7d2b53d-97b1-4491-bd04-060d29191b01')\"\n",
              "            title=\"Suggest charts\"\n",
              "            style=\"display:none;\">\n",
              "\n",
              "<svg xmlns=\"http://www.w3.org/2000/svg\" height=\"24px\"viewBox=\"0 0 24 24\"\n",
              "     width=\"24px\">\n",
              "    <g>\n",
              "        <path d=\"M19 3H5c-1.1 0-2 .9-2 2v14c0 1.1.9 2 2 2h14c1.1 0 2-.9 2-2V5c0-1.1-.9-2-2-2zM9 17H7v-7h2v7zm4 0h-2V7h2v10zm4 0h-2v-4h2v4z\"/>\n",
              "    </g>\n",
              "</svg>\n",
              "  </button>\n",
              "\n",
              "<style>\n",
              "  .colab-df-quickchart {\n",
              "      --bg-color: #E8F0FE;\n",
              "      --fill-color: #1967D2;\n",
              "      --hover-bg-color: #E2EBFA;\n",
              "      --hover-fill-color: #174EA6;\n",
              "      --disabled-fill-color: #AAA;\n",
              "      --disabled-bg-color: #DDD;\n",
              "  }\n",
              "\n",
              "  [theme=dark] .colab-df-quickchart {\n",
              "      --bg-color: #3B4455;\n",
              "      --fill-color: #D2E3FC;\n",
              "      --hover-bg-color: #434B5C;\n",
              "      --hover-fill-color: #FFFFFF;\n",
              "      --disabled-bg-color: #3B4455;\n",
              "      --disabled-fill-color: #666;\n",
              "  }\n",
              "\n",
              "  .colab-df-quickchart {\n",
              "    background-color: var(--bg-color);\n",
              "    border: none;\n",
              "    border-radius: 50%;\n",
              "    cursor: pointer;\n",
              "    display: none;\n",
              "    fill: var(--fill-color);\n",
              "    height: 32px;\n",
              "    padding: 0;\n",
              "    width: 32px;\n",
              "  }\n",
              "\n",
              "  .colab-df-quickchart:hover {\n",
              "    background-color: var(--hover-bg-color);\n",
              "    box-shadow: 0 1px 2px rgba(60, 64, 67, 0.3), 0 1px 3px 1px rgba(60, 64, 67, 0.15);\n",
              "    fill: var(--button-hover-fill-color);\n",
              "  }\n",
              "\n",
              "  .colab-df-quickchart-complete:disabled,\n",
              "  .colab-df-quickchart-complete:disabled:hover {\n",
              "    background-color: var(--disabled-bg-color);\n",
              "    fill: var(--disabled-fill-color);\n",
              "    box-shadow: none;\n",
              "  }\n",
              "\n",
              "  .colab-df-spinner {\n",
              "    border: 2px solid var(--fill-color);\n",
              "    border-color: transparent;\n",
              "    border-bottom-color: var(--fill-color);\n",
              "    animation:\n",
              "      spin 1s steps(1) infinite;\n",
              "  }\n",
              "\n",
              "  @keyframes spin {\n",
              "    0% {\n",
              "      border-color: transparent;\n",
              "      border-bottom-color: var(--fill-color);\n",
              "      border-left-color: var(--fill-color);\n",
              "    }\n",
              "    20% {\n",
              "      border-color: transparent;\n",
              "      border-left-color: var(--fill-color);\n",
              "      border-top-color: var(--fill-color);\n",
              "    }\n",
              "    30% {\n",
              "      border-color: transparent;\n",
              "      border-left-color: var(--fill-color);\n",
              "      border-top-color: var(--fill-color);\n",
              "      border-right-color: var(--fill-color);\n",
              "    }\n",
              "    40% {\n",
              "      border-color: transparent;\n",
              "      border-right-color: var(--fill-color);\n",
              "      border-top-color: var(--fill-color);\n",
              "    }\n",
              "    60% {\n",
              "      border-color: transparent;\n",
              "      border-right-color: var(--fill-color);\n",
              "    }\n",
              "    80% {\n",
              "      border-color: transparent;\n",
              "      border-right-color: var(--fill-color);\n",
              "      border-bottom-color: var(--fill-color);\n",
              "    }\n",
              "    90% {\n",
              "      border-color: transparent;\n",
              "      border-bottom-color: var(--fill-color);\n",
              "    }\n",
              "  }\n",
              "</style>\n",
              "\n",
              "  <script>\n",
              "    async function quickchart(key) {\n",
              "      const quickchartButtonEl =\n",
              "        document.querySelector('#' + key + ' button');\n",
              "      quickchartButtonEl.disabled = true;  // To prevent multiple clicks.\n",
              "      quickchartButtonEl.classList.add('colab-df-spinner');\n",
              "      try {\n",
              "        const charts = await google.colab.kernel.invokeFunction(\n",
              "            'suggestCharts', [key], {});\n",
              "      } catch (error) {\n",
              "        console.error('Error during call to suggestCharts:', error);\n",
              "      }\n",
              "      quickchartButtonEl.classList.remove('colab-df-spinner');\n",
              "      quickchartButtonEl.classList.add('colab-df-quickchart-complete');\n",
              "    }\n",
              "    (() => {\n",
              "      let quickchartButtonEl =\n",
              "        document.querySelector('#df-c7d2b53d-97b1-4491-bd04-060d29191b01 button');\n",
              "      quickchartButtonEl.style.display =\n",
              "        google.colab.kernel.accessAllowed ? 'block' : 'none';\n",
              "    })();\n",
              "  </script>\n",
              "</div>\n",
              "    </div>\n",
              "  </div>\n"
            ],
            "application/vnd.google.colaboratory.intrinsic+json": {
              "type": "dataframe",
              "summary": "{\n  \"name\": \"data[cols + ['IsTestCompleted']]\",\n  \"rows\": 30641,\n  \"fields\": [\n    {\n      \"column\": \"Gender\",\n      \"properties\": {\n        \"dtype\": \"category\",\n        \"num_unique_values\": 2,\n        \"samples\": [\n          \"male\",\n          \"female\"\n        ],\n        \"semantic_type\": \"\",\n        \"description\": \"\"\n      }\n    },\n    {\n      \"column\": \"EthnicGroup\",\n      \"properties\": {\n        \"dtype\": \"category\",\n        \"num_unique_values\": 5,\n        \"samples\": [\n          \"group B\",\n          \"group E\"\n        ],\n        \"semantic_type\": \"\",\n        \"description\": \"\"\n      }\n    },\n    {\n      \"column\": \"ParentEduc\",\n      \"properties\": {\n        \"dtype\": \"category\",\n        \"num_unique_values\": 6,\n        \"samples\": [\n          \"bachelor's degree\",\n          \"some college\"\n        ],\n        \"semantic_type\": \"\",\n        \"description\": \"\"\n      }\n    },\n    {\n      \"column\": \"LunchType\",\n      \"properties\": {\n        \"dtype\": \"category\",\n        \"num_unique_values\": 2,\n        \"samples\": [\n          \"free/reduced\",\n          \"standard\"\n        ],\n        \"semantic_type\": \"\",\n        \"description\": \"\"\n      }\n    },\n    {\n      \"column\": \"ParentMaritalStatus\",\n      \"properties\": {\n        \"dtype\": \"category\",\n        \"num_unique_values\": 4,\n        \"samples\": [\n          \"single\",\n          \"divorced\"\n        ],\n        \"semantic_type\": \"\",\n        \"description\": \"\"\n      }\n    },\n    {\n      \"column\": \"PracticeSport\",\n      \"properties\": {\n        \"dtype\": \"category\",\n        \"num_unique_values\": 3,\n        \"samples\": [\n          \"regularly\",\n          \"sometimes\"\n        ],\n        \"semantic_type\": \"\",\n        \"description\": \"\"\n      }\n    },\n    {\n      \"column\": \"IsFirstChild\",\n      \"properties\": {\n        \"dtype\": \"category\",\n        \"num_unique_values\": 2,\n        \"samples\": [\n          \"no\",\n          \"yes\"\n        ],\n        \"semantic_type\": \"\",\n        \"description\": \"\"\n      }\n    },\n    {\n      \"column\": \"NrSiblings\",\n      \"properties\": {\n        \"dtype\": \"number\",\n        \"std\": 1.4582424759686543,\n        \"min\": 0.0,\n        \"max\": 7.0,\n        \"num_unique_values\": 8,\n        \"samples\": [\n          0.0,\n          5.0\n        ],\n        \"semantic_type\": \"\",\n        \"description\": \"\"\n      }\n    },\n    {\n      \"column\": \"TransportMeans\",\n      \"properties\": {\n        \"dtype\": \"category\",\n        \"num_unique_values\": 2,\n        \"samples\": [\n          \"private\",\n          \"school_bus\"\n        ],\n        \"semantic_type\": \"\",\n        \"description\": \"\"\n      }\n    },\n    {\n      \"column\": \"WklyStudyHours\",\n      \"properties\": {\n        \"dtype\": \"category\",\n        \"num_unique_values\": 3,\n        \"samples\": [\n          \"< 5\",\n          \"5 - 10\"\n        ],\n        \"semantic_type\": \"\",\n        \"description\": \"\"\n      }\n    },\n    {\n      \"column\": \"MathScore\",\n      \"properties\": {\n        \"dtype\": \"number\",\n        \"std\": 15,\n        \"min\": 0,\n        \"max\": 100,\n        \"num_unique_values\": 95,\n        \"samples\": [\n          36,\n          70\n        ],\n        \"semantic_type\": \"\",\n        \"description\": \"\"\n      }\n    },\n    {\n      \"column\": \"ReadingScore\",\n      \"properties\": {\n        \"dtype\": \"number\",\n        \"std\": 14,\n        \"min\": 10,\n        \"max\": 100,\n        \"num_unique_values\": 90,\n        \"samples\": [\n          48,\n          65\n        ],\n        \"semantic_type\": \"\",\n        \"description\": \"\"\n      }\n    },\n    {\n      \"column\": \"WritingScore\",\n      \"properties\": {\n        \"dtype\": \"number\",\n        \"std\": 15,\n        \"min\": 4,\n        \"max\": 100,\n        \"num_unique_values\": 93,\n        \"samples\": [\n          10,\n          76\n        ],\n        \"semantic_type\": \"\",\n        \"description\": \"\"\n      }\n    },\n    {\n      \"column\": \"IsTestCompleted\",\n      \"properties\": {\n        \"dtype\": \"boolean\",\n        \"num_unique_values\": 2,\n        \"samples\": [\n          true,\n          false\n        ],\n        \"semantic_type\": \"\",\n        \"description\": \"\"\n      }\n    }\n  ]\n}"
            }
          },
          "metadata": {},
          "execution_count": 40
        }
      ]
    },
    {
      "cell_type": "code",
      "source": [
        "num_features = [\n",
        "    'MathScore',\n",
        "    'ReadingScore',\n",
        "    'WritingScore',\n",
        "    'NrSiblings'\n",
        "]\n",
        "cat_features = [\n",
        "    'Gender',\n",
        "    'EthnicGroup',\n",
        "    'ParentEduc',\n",
        "    'LunchType',\n",
        "    'ParentMaritalStatus',\n",
        "    'PracticeSport',\n",
        "    'IsFirstChild',\n",
        "    'TransportMeans',\n",
        "    'WklyStudyHours'\n",
        "]\n",
        "\n",
        "num_pipeline = Pipeline([('imputer', SimpleImputer(strategy=\"mean\")),('scaler', StandardScaler()),])\n",
        "\n",
        "X = ColumnTransformer([(\"num\", num_pipeline, num_features),(\"cat\", OneHotEncoder(), cat_features)]).fit_transform(data)\n",
        "Y = data['IsTestCompleted'].values\n",
        "\n",
        "model = LogisticRegression()\n",
        "cv = ShuffleSplit(n_splits=15, test_size=0.25, random_state=0)\n",
        "TestPrep = cross_val_score(LogisticRegression(), X, Y, cv=cv).mean()\n",
        "print(TestPrep)"
      ],
      "metadata": {
        "colab": {
          "base_uri": "https://localhost:8080/"
        },
        "id": "Btd54v0TTE-Z",
        "outputId": "d668f339-fb61-45ca-9012-ec871d743f71"
      },
      "execution_count": 46,
      "outputs": [
        {
          "output_type": "stream",
          "name": "stdout",
          "text": [
            "0.7495888265239525\n"
          ]
        }
      ]
    }
  ]
}