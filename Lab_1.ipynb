{
  "cells": [
    {
      "cell_type": "markdown",
      "id": "0887c043-accd-4756-8eb9-1477c641adcc",
      "metadata": {
        "id": "0887c043-accd-4756-8eb9-1477c641adcc"
      },
      "source": [
        "# Гана"
      ]
    },
    {
      "cell_type": "markdown",
      "id": "ije5NFyqY1rN",
      "metadata": {
        "id": "ije5NFyqY1rN"
      },
      "source": [
        "## Загілні відомості"
      ]
    },
    {
      "cell_type": "markdown",
      "id": "04C-6KzUhbSm",
      "metadata": {
        "id": "04C-6KzUhbSm"
      },
      "source": [
        "### Населення\n",
        "| Рік | Населення | Метод |\n",
        "|------|----|--|\n",
        "| 2013 | 25 199 609 | перепис |"
      ]
    },
    {
      "cell_type": "markdown",
      "id": "GDai2eQHXeYl",
      "metadata": {
        "id": "GDai2eQHXeYl"
      },
      "source": [
        "### Інше\n",
        "|  |  |\n",
        "|------|----|\n",
        "| Валюта | Седі |\n",
        "| Площа | $$238 537 км^2$$ |\n",
        "| Офіційна мова | Англійська |\n",
        "| Столиця | Аккра |"
      ]
    },
    {
      "cell_type": "markdown",
      "source": [
        "Прапор Гани - прямокутне полотнище з горизонтальними червоною, жовтою та зеленою смугами рівної ширини, розташованими відповідно зверху донизу. У центрі середньої жовтої смуги виділяється чорна п'ятикутна зірка. Жовта смуга – символ багатства мінеральними ресурсами, зелена смуга – символ багатства рослинними ресурсами, червона смуга – символ крові, пролитої борцями за незалежність Гани. А чорна зірка - це символ визволення та єдності народів Африки у боротьбі з колоніалізмом"
      ],
      "metadata": {
        "id": "USvj64mY_w60"
      },
      "id": "USvj64mY_w60"
    },
    {
      "cell_type": "markdown",
      "id": "YACgeGWqfrqO",
      "metadata": {
        "id": "YACgeGWqfrqO"
      },
      "source": [
        "## Державний устрій"
      ]
    },
    {
      "cell_type": "markdown",
      "id": "j-J9VWJ-hkDi",
      "metadata": {
        "id": "j-J9VWJ-hkDi"
      },
      "source": [
        "<div style=\"border: 2px solid blue;\n",
        "     padding: 10px;\">\n",
        "  Гана за формою правління є президентською республікою, глава держави — президент. Державний устрій — унітарна держава.\n",
        "\n",
        "\n",
        "</div>"
      ]
    },
    {
      "cell_type": "markdown",
      "id": "LxIqw-HenJsa",
      "metadata": {
        "id": "LxIqw-HenJsa"
      },
      "source": [
        "## Пам’ятки <span style=\"color:red\">культури</span> та <span style=\"color:green\">природи</span>\n",
        "\n",
        "\n"
      ]
    },
    {
      "cell_type": "markdown",
      "id": "hHVt0Z2_78Pq",
      "metadata": {
        "id": "hHVt0Z2_78Pq"
      },
      "source": [
        "\n",
        "\n",
        "*   **ПЛОЩА ЧОРНОЇ ЗІРКИ** - це площа Чорної Зірки та мавзолей першого президента Кваме Нкруми.\n",
        "\n",
        "*   **ЕЛЬМІНА ** - Найвідоміша фортеця на всьому західному узбережжі Африки — ЕЛЬМІНА — має вигляд неприступної білосніжної твердині, що наїжилася гарматами, ровами та високими мурами. Особливо гарна вона здалеку — мов білосніжна скеля на тлі синього океану та блакитного неба.\n"
      ]
    },
    {
      "cell_type": "markdown",
      "id": "1Pkndy_7BNwF",
      "metadata": {
        "id": "1Pkndy_7BNwF"
      },
      "source": [
        "## Прапор Греції"
      ]
    },
    {
      "cell_type": "code",
      "execution_count": 2,
      "id": "ojW4QKBP-VXv",
      "metadata": {
        "colab": {
          "base_uri": "https://localhost:8080/",
          "height": 128
        },
        "id": "ojW4QKBP-VXv",
        "outputId": "41b3856e-b33f-4d06-d3b0-254627f7790b"
      },
      "outputs": [
        {
          "output_type": "display_data",
          "data": {
            "text/plain": [
              "<IPython.core.display.HTML object>"
            ],
            "text/html": [
              "<img src =\"https://upload.wikimedia.org/wikipedia/commons/thumb/1/19/Flag_of_Ghana.svg/160px-Flag_of_Ghana.svg.png\" alt=\"Прапор\">\n"
            ]
          },
          "metadata": {}
        }
      ],
      "source": [
        "%%HTML\n",
        "<img src =\"https://upload.wikimedia.org/wikipedia/commons/thumb/1/19/Flag_of_Ghana.svg/160px-Flag_of_Ghana.svg.png\" alt=\"Прапор\">\n"
      ]
    },
    {
      "cell_type": "markdown",
      "id": "ArmZESwKdMbV",
      "metadata": {
        "id": "ArmZESwKdMbV"
      },
      "source": [
        "# Завдання 5 (Варіант 5)"
      ]
    },
    {
      "cell_type": "code",
      "source": [
        "def is_prime(num):\n",
        "    if num <= 1:\n",
        "        return False\n",
        "    if num <= 3:\n",
        "        return True\n",
        "    if num % 2 == 0 or num % 3 == 0:\n",
        "        return False\n",
        "    i = 5\n",
        "    while i * i <= num:\n",
        "        if num % i == 0 or num % (i + 2) == 0:\n",
        "            return False\n",
        "        i += 6\n",
        "    return True\n",
        "\n",
        "def kth_prime(k):\n",
        "    primes = []\n",
        "    num = 2\n",
        "    while len(primes) < k:\n",
        "        if is_prime(num):\n",
        "            primes.append(num)\n",
        "        num += 1\n",
        "    return primes[-1]\n",
        "\n",
        "def task_5():\n",
        "    k = int(input(\"Введіть номер k: \"))\n",
        "    kth = kth_prime(k)\n",
        "    print(f\"{k}-те просте число - це {kth}\")\n",
        "\n",
        "task_5()"
      ],
      "metadata": {
        "colab": {
          "base_uri": "https://localhost:8080/"
        },
        "id": "6BzCWJW2Cqpo",
        "outputId": "3e4879f2-cee2-4ada-ec66-4838bbf0df4a"
      },
      "id": "6BzCWJW2Cqpo",
      "execution_count": 9,
      "outputs": [
        {
          "output_type": "stream",
          "name": "stdout",
          "text": [
            "Введіть номер k: 34\n",
            "34-те просте число - це 139\n"
          ]
        }
      ]
    }
  ],
  "metadata": {
    "colab": {
      "provenance": []
    },
    "kernelspec": {
      "display_name": "Python 3 (ipykernel)",
      "language": "python",
      "name": "python3"
    },
    "language_info": {
      "codemirror_mode": {
        "name": "ipython",
        "version": 3
      },
      "file_extension": ".py",
      "mimetype": "text/x-python",
      "name": "python",
      "nbconvert_exporter": "python",
      "pygments_lexer": "ipython3",
      "version": "3.11.5"
    }
  },
  "nbformat": 4,
  "nbformat_minor": 5
}