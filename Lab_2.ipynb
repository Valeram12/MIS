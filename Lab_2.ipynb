{
  "cells": [
    {
      "cell_type": "markdown",
      "id": "21d30622-ea3f-4154-acdd-1552959349d9",
      "metadata": {
        "editable": true,
        "tags": [],
        "id": "21d30622-ea3f-4154-acdd-1552959349d9"
      },
      "source": [
        "# Завдання 1\n",
        "1, 3, 6, 8, 13, 15, 16, 18, 20\n",
        "\n",
        "16 20\n",
        "## Виконати набір вправ. Всі завдання виконати 2 способами:\n",
        " <li>з використанням універсальних функцій бібліотеки NumPy</li>\n",
        " <li>b) за допомогою ітеративних конструкцій (з використанням\n",
        "циклів, спискових включень тощо.</li>"
      ]
    },
    {
      "cell_type": "code",
      "execution_count": null,
      "id": "599a3238-7865-4459-939d-576ddcddfefc",
      "metadata": {
        "id": "599a3238-7865-4459-939d-576ddcddfefc"
      },
      "outputs": [],
      "source": [
        "import math\n",
        "import random\n",
        "import numpy as np"
      ]
    },
    {
      "cell_type": "markdown",
      "id": "beff47fb-4e18-46f1-ade5-76d95134feca",
      "metadata": {
        "id": "beff47fb-4e18-46f1-ade5-76d95134feca"
      },
      "source": [
        "## Вправа 1\n",
        "### Вводиться число n. Вивести масив розміру n×n, в якому по діагоналі йдуть числа від 1 до n, а інші числа дорівнюють 0."
      ]
    },
    {
      "cell_type": "code",
      "execution_count": null,
      "id": "5b4ec097-bd1f-48a8-8d23-cf1964a39a6e",
      "metadata": {
        "id": "5b4ec097-bd1f-48a8-8d23-cf1964a39a6e",
        "outputId": "70240f7f-982e-42bf-b59e-09fa2b1086a6"
      },
      "outputs": [
        {
          "name": "stdin",
          "output_type": "stream",
          "text": [
            "Enter n:  5\n"
          ]
        },
        {
          "name": "stdout",
          "output_type": "stream",
          "text": [
            "[1, 0, 0, 0, 0]\n",
            "[0, 2, 0, 0, 0]\n",
            "[0, 0, 3, 0, 0]\n",
            "[0, 0, 0, 4, 0]\n",
            "[0, 0, 0, 0, 5]\n",
            "CPU times: total: 0 ns\n",
            "Wall time: 2.67 s\n"
          ]
        }
      ],
      "source": [
        "def task_1():\n",
        "    n = int(input(\"Enter n: \"))\n",
        "    arr = [[0 for j in range(n)] for i in range(n)]\n",
        "\n",
        "    for i in range(n):\n",
        "        arr[i][i] = i + 1\n",
        "\n",
        "    for row in arr:\n",
        "        print(row)\n",
        "\n",
        "\n",
        "%time task_1()"
      ]
    },
    {
      "cell_type": "code",
      "execution_count": null,
      "id": "43eb624c-70d1-438e-be06-c71db8927c0b",
      "metadata": {
        "id": "43eb624c-70d1-438e-be06-c71db8927c0b",
        "outputId": "5a478cab-8860-49a6-db80-857fa2426821"
      },
      "outputs": [
        {
          "name": "stdin",
          "output_type": "stream",
          "text": [
            "Enter n:  5\n"
          ]
        },
        {
          "name": "stdout",
          "output_type": "stream",
          "text": [
            "[[1 0 0 0 0]\n",
            " [0 2 0 0 0]\n",
            " [0 0 3 0 0]\n",
            " [0 0 0 4 0]\n",
            " [0 0 0 0 5]]\n",
            "CPU times: total: 15.6 ms\n",
            "Wall time: 1.65 s\n"
          ]
        }
      ],
      "source": [
        "import numpy as np\n",
        "\n",
        "def task_1():\n",
        "    n = int(input(\"Enter n: \"))\n",
        "    arr = np.zeros((n, n), dtype=int)\n",
        "    arr[np.diag_indices_from(arr)] = np.arange(1, n+1)\n",
        "    print(arr)\n",
        "\n",
        "\n",
        "%time task_1()"
      ]
    },
    {
      "cell_type": "markdown",
      "id": "83d1f40a-1ad9-48d3-92de-5b8b48d544db",
      "metadata": {
        "id": "83d1f40a-1ad9-48d3-92de-5b8b48d544db"
      },
      "source": [
        "## Вправа 3\n",
        "### Вводяться 4 числа n, m, r, c. Вивести масив розміру n×m, в якому в кожному рядку з номером r і в кожному стовпчику з номером c стоять 0, а інші елементи дорівнюють 1."
      ]
    },
    {
      "cell_type": "code",
      "execution_count": null,
      "id": "cefff27b-e324-4203-a9a7-0afa51b2bf3c",
      "metadata": {
        "id": "cefff27b-e324-4203-a9a7-0afa51b2bf3c",
        "outputId": "3bc0c89f-9b69-495f-803e-93fb7fcffd17"
      },
      "outputs": [
        {
          "name": "stdin",
          "output_type": "stream",
          "text": [
            "Enter n, m, r, c separated by space:  6 7 2 3\n"
          ]
        },
        {
          "name": "stdout",
          "output_type": "stream",
          "text": [
            "[0, 0, 0, 0, 0, 0, 0]\n",
            "[0, 1, 1, 0, 1, 1, 0]\n",
            "[0, 0, 0, 0, 0, 0, 0]\n",
            "[0, 1, 1, 0, 1, 1, 0]\n",
            "[0, 0, 0, 0, 0, 0, 0]\n",
            "[0, 1, 1, 0, 1, 1, 0]\n",
            "CPU times: total: 15.6 ms\n",
            "Wall time: 13.4 s\n"
          ]
        }
      ],
      "source": [
        "def task_3():\n",
        "    input_str = input(\"Enter n, m, r, c separated by space: \")\n",
        "    values = input_str.split()\n",
        "    n, m, r, c = map(int, values)\n",
        "\n",
        "    arr = [[1 for j in range(m)] for i in range(n)]\n",
        "\n",
        "    for i in range(n):\n",
        "        if i % r == 0:\n",
        "            arr[i] = [0 for j in range(m)]\n",
        "\n",
        "    for i in range(m):\n",
        "        if i % c == 0:\n",
        "            for j in range(n):\n",
        "                arr[j][i] = 0\n",
        "\n",
        "    for row in arr:\n",
        "        print(row)\n",
        "\n",
        "%time task_3()"
      ]
    },
    {
      "cell_type": "code",
      "execution_count": null,
      "id": "2a0f7c86-6d23-4508-a11a-ce716b800068",
      "metadata": {
        "id": "2a0f7c86-6d23-4508-a11a-ce716b800068",
        "outputId": "035c07bd-75fb-46f1-9bf7-90cee8a489e0"
      },
      "outputs": [
        {
          "name": "stdin",
          "output_type": "stream",
          "text": [
            "Enter n, m, r, c separated by space:  6 7 2 3\n"
          ]
        },
        {
          "name": "stdout",
          "output_type": "stream",
          "text": [
            "[[0 0 0 0 0 0 0]\n",
            " [0 1 1 0 1 1 0]\n",
            " [0 0 0 0 0 0 0]\n",
            " [0 1 1 0 1 1 0]\n",
            " [0 0 0 0 0 0 0]\n",
            " [0 1 1 0 1 1 0]]\n",
            "CPU times: total: 0 ns\n",
            "Wall time: 3.01 s\n"
          ]
        }
      ],
      "source": [
        "import numpy as np\n",
        "\n",
        "def task_3():\n",
        "    input_str = input(\"Enter n, m, r, c separated by space: \")\n",
        "    values = input_str.split()\n",
        "    n, m, r, c = map(int, values)\n",
        "\n",
        "    arr = np.ones((n, m), dtype=int)\n",
        "    arr[::r, :] = 0\n",
        "    arr[:, ::c] = 0\n",
        "\n",
        "    print(arr)\n",
        "\n",
        "%time task_3()"
      ]
    },
    {
      "cell_type": "markdown",
      "id": "6840ffe0-1f0c-49ea-8c57-05c8c3e4f89a",
      "metadata": {
        "id": "6840ffe0-1f0c-49ea-8c57-05c8c3e4f89a"
      },
      "source": [
        "## Вправа 6\n",
        "### З клавіатури вводиться масив, Замінити всі ненульові елементи на -1."
      ]
    },
    {
      "cell_type": "code",
      "execution_count": null,
      "id": "aa55de12-dd83-46f5-98a8-34fe4f7b4a02",
      "metadata": {
        "id": "aa55de12-dd83-46f5-98a8-34fe4f7b4a02",
        "outputId": "36f8c49b-ee15-42f2-ec14-68a45192b73b"
      },
      "outputs": [
        {
          "name": "stdout",
          "output_type": "stream",
          "text": [
            "CPU times: total: 0 ns\n",
            "Wall time: 0 ns\n"
          ]
        },
        {
          "data": {
            "text/plain": [
              "[-1, -1, 0, -1, -1, 0, -1, 0, -1, 0, -1]"
            ]
          },
          "execution_count": 25,
          "metadata": {},
          "output_type": "execute_result"
        }
      ],
      "source": [
        "def task_6(input_array):\n",
        "    for i in range(len(input_array)):\n",
        "        if input_array[i] != 0:\n",
        "            input_array[i] = -1\n",
        "    return input_array\n",
        "\n",
        "%time task_6([3,4,0,9,7,0,6,0,4,0,3])"
      ]
    },
    {
      "cell_type": "code",
      "execution_count": null,
      "id": "404a5d9e-396c-4422-be70-970696bb18c2",
      "metadata": {
        "id": "404a5d9e-396c-4422-be70-970696bb18c2",
        "outputId": "fe779c17-2dee-4504-cbf4-aabafe4bf24e"
      },
      "outputs": [
        {
          "name": "stdout",
          "output_type": "stream",
          "text": [
            "CPU times: total: 0 ns\n",
            "Wall time: 0 ns\n"
          ]
        },
        {
          "data": {
            "text/plain": [
              "array([-1, -1,  0, -1, -1,  0, -1,  0, -1,  0, -1])"
            ]
          },
          "execution_count": 26,
          "metadata": {},
          "output_type": "execute_result"
        }
      ],
      "source": [
        "import numpy as np\n",
        "\n",
        "def task_6(input_array):\n",
        "    arr = np.array(input_array)\n",
        "    arr[arr != 0] = -1\n",
        "    return arr\n",
        "\n",
        "%time task_6([3,4,0,9,7,0,6,0,4,0,3])"
      ]
    },
    {
      "cell_type": "markdown",
      "metadata": {
        "id": "nnTjKF6xHAFT"
      },
      "source": [
        "## Вправа 8\n",
        "### З клавіатури вводиться масив. Підрахувати в ньому кількість нульових та ненульових елементів."
      ],
      "id": "nnTjKF6xHAFT"
    },
    {
      "cell_type": "code",
      "source": [
        "import numpy as np\n",
        "import time\n",
        "def task8_numpy(arr):\n",
        "    num_zeros = np.count_nonzero(arr == 0)\n",
        "    num_nonzeros = np.count_nonzero(arr != 0)\n",
        "    return num_zeros, num_nonzeros\n",
        "\n",
        "def task8_iterative(arr):\n",
        "    num_zeros = sum(1 for x in arr if x == 0)\n",
        "    num_nonzeros = len(arr) - num_zeros\n",
        "    return num_zeros, num_nonzeros\n",
        "\n",
        "\n",
        "arr = np.array(list(map(int, input(\"Введіть масив чисел через пробіл: \").split())))\n",
        "\n",
        "\n",
        "start_time_numpy = time.time()\n",
        "num_zeros_numpy, num_nonzeros_numpy = task8_numpy(arr)\n",
        "end_time_numpy = time.time()\n",
        "\n",
        "\n",
        "print(\"Нулів:\", num_zeros_numpy)\n",
        "print(\"Не нулів:\", num_nonzeros_numpy)\n",
        "print(\"Час виконання (NumPy):\", end_time_numpy - start_time_numpy, \"секунд\")\n",
        "\n",
        "\n",
        "start_time_iterative = time.time()\n",
        "num_zeros_iterative, num_nonzeros_iterative = task8_iterative(arr)\n",
        "end_time_iterative = time.time()\n",
        "\n",
        "\n",
        "print(\"Нулів:\", num_zeros_iterative)\n",
        "print(\"Не нулів:\", num_nonzeros_iterative)\n",
        "print(\"Час виконання (Ітеративно):\", end_time_iterative - start_time_iterative, \"секунд\")"
      ],
      "metadata": {
        "colab": {
          "base_uri": "https://localhost:8080/"
        },
        "id": "j8m7eeoKHL0f",
        "outputId": "b2cd4109-6e55-4d23-ba2e-b321e70489be"
      },
      "id": "j8m7eeoKHL0f",
      "execution_count": 3,
      "outputs": [
        {
          "output_type": "stream",
          "name": "stdout",
          "text": [
            "Введіть масив чисел через пробіл: 3 4 0 9 8 2 4 0 8 4 0\n",
            "Нулів: 3\n",
            "Не нулів: 8\n",
            "Час виконання (NumPy): 0.00041484832763671875 секунд\n",
            "Нулів: 3\n",
            "Не нулів: 8\n",
            "Час виконання (Ітеративно): 0.0001246929168701172 секунд\n"
          ]
        }
      ]
    },
    {
      "cell_type": "markdown",
      "metadata": {
        "id": "Z4Sr15xaHxBS"
      },
      "source": [
        "## Вправа 13\n",
        "### Розмістити на полі 8×8 нулі та одиниці в шахматному порядку, використовуючи функцію повторення (*)."
      ],
      "id": "Z4Sr15xaHxBS"
    },
    {
      "cell_type": "code",
      "source": [
        "def task13_numpy():\n",
        "    chessboard = np.zeros((8, 8), dtype=int)\n",
        "    chessboard[1::2, ::2] = 1\n",
        "    chessboard[::2, 1::2] = 1\n",
        "    return chessboard\n",
        "\n",
        "def task13_iterative():\n",
        "    chessboard = []\n",
        "    for i in range(8):\n",
        "        row = [1 if (i+j) % 2 == 1 else 0 for j in range(8)]\n",
        "        chessboard.append(row)\n",
        "    return chessboard\n",
        "\n",
        "\n",
        "start_time_numpy = time.time()\n",
        "result_numpy = task13_numpy()\n",
        "end_time_numpy = time.time()\n",
        "\n",
        "\n",
        "print(\"Результат (NumPy):\")\n",
        "print(result_numpy)\n",
        "print(\"Час виконання (NumPy):\", end_time_numpy - start_time_numpy, \"секунд\")\n",
        "\n",
        "\n",
        "start_time_iterative = time.time()\n",
        "result_iterative = task13_iterative()\n",
        "end_time_iterative = time.time()\n",
        "\n",
        "\n",
        "print(\"\\nРезультат (Ітеративно):\")\n",
        "for row in result_iterative:\n",
        "    print(row)\n",
        "print(\"Час виконання (Ітеративно):\", end_time_iterative - start_time_iterative, \"секунд\")"
      ],
      "metadata": {
        "colab": {
          "base_uri": "https://localhost:8080/"
        },
        "outputId": "ded5c1e7-a47b-4f8c-ed09-2dcd21bd5211",
        "id": "iYPovYPPHxBT"
      },
      "execution_count": 4,
      "outputs": [
        {
          "output_type": "stream",
          "name": "stdout",
          "text": [
            "Результат (NumPy):\n",
            "[[0 1 0 1 0 1 0 1]\n",
            " [1 0 1 0 1 0 1 0]\n",
            " [0 1 0 1 0 1 0 1]\n",
            " [1 0 1 0 1 0 1 0]\n",
            " [0 1 0 1 0 1 0 1]\n",
            " [1 0 1 0 1 0 1 0]\n",
            " [0 1 0 1 0 1 0 1]\n",
            " [1 0 1 0 1 0 1 0]]\n",
            "Час виконання (NumPy): 0.0006012916564941406 секунд\n",
            "\n",
            "Результат (Ітеративно):\n",
            "[0, 1, 0, 1, 0, 1, 0, 1]\n",
            "[1, 0, 1, 0, 1, 0, 1, 0]\n",
            "[0, 1, 0, 1, 0, 1, 0, 1]\n",
            "[1, 0, 1, 0, 1, 0, 1, 0]\n",
            "[0, 1, 0, 1, 0, 1, 0, 1]\n",
            "[1, 0, 1, 0, 1, 0, 1, 0]\n",
            "[0, 1, 0, 1, 0, 1, 0, 1]\n",
            "[1, 0, 1, 0, 1, 0, 1, 0]\n",
            "Час виконання (Ітеративно): 9.5367431640625e-05 секунд\n"
          ]
        }
      ],
      "id": "iYPovYPPHxBT"
    },
    {
      "cell_type": "markdown",
      "id": "7058e770-e6e2-4bc7-ba78-4731bdc1ca06",
      "metadata": {
        "id": "7058e770-e6e2-4bc7-ba78-4731bdc1ca06"
      },
      "source": [
        "## Вправа 15\n",
        "### Заповнити парні стовпчикі матриці розміром n×n одиницями, а непарні – нулями."
      ]
    },
    {
      "cell_type": "code",
      "execution_count": null,
      "id": "300a71dd-d99d-482a-9e9b-d2350eb3f7e0",
      "metadata": {
        "id": "300a71dd-d99d-482a-9e9b-d2350eb3f7e0",
        "outputId": "03044a03-d830-42ab-ba87-4bfabcaef16b"
      },
      "outputs": [
        {
          "name": "stdout",
          "output_type": "stream",
          "text": [
            "2.17 µs ± 80 ns per loop (mean ± std. dev. of 7 runs, 100,000 loops each)\n"
          ]
        }
      ],
      "source": [
        "def task_15(n):\n",
        "    matrix = [[1 if col % 2 == 0 else 0 for col in range(n)] for row in range(n)]\n",
        "    return matrix\n",
        "\n",
        "%timeit task_15(5)"
      ]
    },
    {
      "cell_type": "code",
      "execution_count": null,
      "id": "c6714dfb-401b-47d0-b235-4ba440e7b36f",
      "metadata": {
        "id": "c6714dfb-401b-47d0-b235-4ba440e7b36f",
        "outputId": "8ce27abe-7709-4f91-cb00-7cf2a9731bdc"
      },
      "outputs": [
        {
          "name": "stdout",
          "output_type": "stream",
          "text": [
            "785 ns ± 17 ns per loop (mean ± std. dev. of 7 runs, 1,000,000 loops each)\n"
          ]
        }
      ],
      "source": [
        "import numpy as np\n",
        "\n",
        "def task_15(n):\n",
        "    matrix = np.zeros((n, n))\n",
        "    matrix[:, ::2] = 1\n",
        "    return matrix\n",
        "\n",
        "%timeit task_15(5)"
      ]
    },
    {
      "cell_type": "markdown",
      "metadata": {
        "id": "qqL_lEdxID7e"
      },
      "source": [
        "## Вправа 16\n",
        "### РЗаповнити вектор значеннями від 0 до n. Всі значення, що більші за n/4 та менші за 3n/4 замінити нулями."
      ],
      "id": "qqL_lEdxID7e"
    },
    {
      "cell_type": "code",
      "source": [
        "def exercise_16_default(n):\n",
        "    return [0 if (n / 4 < i < (3 * n) / 4) else i for i in range(n + 1)]\n",
        "\n",
        "\n",
        "def exercise_16_numpy(n):\n",
        "    result = np.arange(n + 1)\n",
        "    result[(result > n / 4) & (result < (3 * n) / 4)] = 0\n",
        "\n",
        "    return result\n",
        "\n",
        "n = 10\n",
        "\n",
        "print(\"=========Default=========\")\n",
        "%timeit -n 1000 exercise_16_default(n)\n",
        "\n",
        "print(\"=========Numpy=========\")\n",
        "%timeit -n 1000 exercise_16_numpy(n)\n",
        "\n",
        "print(\"=========Default result=========\")\n",
        "print(exercise_16_default(n))\n",
        "\n",
        "print(\"=========Numpy result=========\")\n",
        "print(exercise_16_numpy(n))"
      ],
      "metadata": {
        "colab": {
          "base_uri": "https://localhost:8080/"
        },
        "outputId": "81438f1b-2931-4386-acdb-e2d347557fa3",
        "id": "-7e4L0mdID7f"
      },
      "execution_count": 5,
      "outputs": [
        {
          "output_type": "stream",
          "name": "stdout",
          "text": [
            "=========Default=========\n",
            "3.98 µs ± 1.08 µs per loop (mean ± std. dev. of 7 runs, 1000 loops each)\n",
            "=========Numpy=========\n",
            "5.5 µs ± 201 ns per loop (mean ± std. dev. of 7 runs, 1000 loops each)\n",
            "=========Default result=========\n",
            "[0, 1, 2, 0, 0, 0, 0, 0, 8, 9, 10]\n",
            "=========Numpy result=========\n",
            "[ 0  1  2  0  0  0  0  0  8  9 10]\n"
          ]
        }
      ],
      "id": "-7e4L0mdID7f"
    },
    {
      "cell_type": "markdown",
      "id": "a30fc5b8-c34f-4bd9-8e5a-3038aa85de31",
      "metadata": {
        "id": "a30fc5b8-c34f-4bd9-8e5a-3038aa85de31"
      },
      "source": [
        "## Вправа 18\n",
        "### Згенерувати вектор з n випадкових чисел в діапазоні від 0 до 99. Визначити кількість унікальних чисел в послідовності."
      ]
    },
    {
      "cell_type": "code",
      "execution_count": null,
      "id": "5fa9fdfd-be16-40ed-b713-997af155fd4f",
      "metadata": {
        "id": "5fa9fdfd-be16-40ed-b713-997af155fd4f",
        "outputId": "bf84de31-4de1-4890-895f-bc3252788dbd"
      },
      "outputs": [
        {
          "name": "stdout",
          "output_type": "stream",
          "text": [
            "[49, 66, 96, 5, 90, 56, 79, 0, 36, 8, 0, 58, 73, 48, 32, 46, 71, 3, 56, 1, 20, 76, 73, 29, 42, 50, 97, 74, 38, 54]\n",
            "unique values:  27\n",
            "CPU times: total: 0 ns\n",
            "Wall time: 0 ns\n"
          ]
        }
      ],
      "source": [
        "def task_18(n):\n",
        "    array = []\n",
        "    for i in range(n):\n",
        "        array.append(random.randint(0, 100))\n",
        "    print(array)\n",
        "    list_set = set(array)\n",
        "    return len(list_set)\n",
        "\n",
        "%time print(\"unique values: \", task_18(30))"
      ]
    },
    {
      "cell_type": "code",
      "execution_count": null,
      "id": "6560e3ae-31f6-4308-8c31-3e5f0d3baedb",
      "metadata": {
        "id": "6560e3ae-31f6-4308-8c31-3e5f0d3baedb",
        "outputId": "a41c3e57-853c-420a-acff-367ed69c2eb7"
      },
      "outputs": [
        {
          "name": "stdout",
          "output_type": "stream",
          "text": [
            "[99 92 92  2 52 44 17  0 80 74 56 41 90 62 62  1 70 32 93 99 31 13 57 30\n",
            " 29 17 44 86 46 24]\n",
            "unique values:  25\n",
            "CPU times: total: 0 ns\n",
            "Wall time: 1 ms\n"
          ]
        }
      ],
      "source": [
        "import numpy as np\n",
        "\n",
        "def task_18(n):\n",
        "    array = np.random.randint(0, 100, n)\n",
        "    print(array)\n",
        "    return len(np.unique(array))\n",
        "\n",
        "%time print(\"unique values: \", task_18(30))"
      ]
    },
    {
      "cell_type": "markdown",
      "metadata": {
        "id": "dLvKCP03IhCv"
      },
      "source": [
        "## Вправа 20\n",
        "### Згенерувати вектор із n випадкових елементів, що лежать в інтервалі (0,1). Замінити максимальний елемент на 0."
      ],
      "id": "dLvKCP03IhCv"
    },
    {
      "cell_type": "code",
      "source": [
        "import random\n",
        "def task_20(n,f_type):\n",
        "    def task_default():\n",
        "\n",
        "        return max([random.random() for _ in range(n)])\n",
        "\n",
        "    def task_numpy():\n",
        "        return np.max(np.random.rand(1,n))\n",
        "\n",
        "    f = {'default': task_default, 'numpy': task_numpy}\n",
        "    return f[f_type]\n",
        "def compare_time(f1, f2):\n",
        "    start = time.time()\n",
        "    result1 = f1()\n",
        "    end = time.time()\n",
        "\n",
        "    print(result1)\n",
        "    print(f\"Execution time: {end - start} seconds\")\n",
        "\n",
        "    start = time.time()\n",
        "    result2 = f2()\n",
        "    end = time.time()\n",
        "\n",
        "    print(result2)\n",
        "    print(f\"Execution time: {end - start} seconds\")\n",
        "\n",
        "    print(f\"Results are equal:{np.allclose(result1, result2)}\")\n",
        "compare_time(task_20(10, 'default'), task_20(10, 'numpy'))"
      ],
      "metadata": {
        "colab": {
          "base_uri": "https://localhost:8080/"
        },
        "id": "QbQmiqOjIqoa",
        "outputId": "d34eb22c-ddd5-45db-949c-be9c44dd3abb"
      },
      "id": "QbQmiqOjIqoa",
      "execution_count": 8,
      "outputs": [
        {
          "output_type": "stream",
          "name": "stdout",
          "text": [
            "0.8848801006787088\n",
            "Execution time: 1.430511474609375e-05 seconds\n",
            "0.7663830619011517\n",
            "Execution time: 0.0008664131164550781 seconds\n",
            "Results are equal:False\n"
          ]
        }
      ]
    },
    {
      "cell_type": "markdown",
      "id": "949113da-6226-40b9-ae6e-d3c412344139",
      "metadata": {
        "id": "949113da-6226-40b9-ae6e-d3c412344139"
      },
      "source": [
        "# Task 2"
      ]
    },
    {
      "cell_type": "markdown",
      "id": "17017284-2c26-41f8-802f-f51db76b1532",
      "metadata": {
        "id": "17017284-2c26-41f8-802f-f51db76b1532"
      },
      "source": [
        "## Завдання 2\n",
        "### Розв'язати систему алгебраїчних рівнянь за допомогою формул Крамера і виконати перевірку за допомогою:\n",
        "- матричного множення\n",
        "- оберненої матриці\n",
        "- функції numpy.linalg.solve()\n",
        "\n",
        "### Порівняти всі рішення за допомогою функції numpy.allclose().\n",
        "### Матричне представлення системи лінійних алгебраїчних рівнянь та розв'язок:\n",
        "\n",
        "\\[\n",
        "\\begin{align*}\n",
        "2x_1 - 6x_2 + 2x_3 + 2x_4 &= 12 \\\\\n",
        "x_1 + 3x_2 + 5x_3 + 7x_4 &= 12 \\\\\n",
        "3x_1 + 5x_2 + 7x_3 + 1x_4 &= 0 \\\\\n",
        "5x_1 + 7x_2 + 1x_3 + 3x_4 &= 4 \\\\\n",
        "\\end{align*}\n",
        "\\]\n",
        "нь та розв'язок:\n",
        "\n",
        "### Порівняти всі рішення за допомогою функції numpy.allclose().\n",
        "\n",
        "### Матричне представлення системи лінійних алгебраїчних рівнянь та розв'язок:"
      ]
    },
    {
      "cell_type": "code",
      "execution_count": 9,
      "id": "41da2a3b-c327-4521-9c4a-699e42ca36ac",
      "metadata": {
        "colab": {
          "base_uri": "https://localhost:8080/"
        },
        "id": "41da2a3b-c327-4521-9c4a-699e42ca36ac",
        "outputId": "5f4b4a70-79b6-43e1-9292-fa1f93349983"
      },
      "outputs": [
        {
          "output_type": "stream",
          "name": "stdout",
          "text": [
            "Result of Cramer's method: [ 1.00000000e+00 -1.00000000e+00 -9.36750677e-17  2.00000000e+00]\n",
            "Result of using numpy.linalg.solve(): [ 1.00000000e+00 -1.00000000e+00 -1.01770444e-16  2.00000000e+00]\n",
            "Check results: True\n",
            "\n",
            "Check using matrix multiplication: True\n",
            "Check using inverse matrix: True\n"
          ]
        }
      ],
      "source": [
        "left = np.array([\n",
        "    [2, -6, 2, 2],\n",
        "    [1,  3, 5, 7],\n",
        "    [3, 5, 7, 1],\n",
        "    [5, 7, 1, 3]\n",
        "])\n",
        "\n",
        "right = np.array([12, 12, 0, 4])\n",
        "\n",
        "\n",
        "def cramers_solve(left, right):\n",
        "    length = len(right)\n",
        "    determinant = np.linalg.det(left)\n",
        "    solution = np.zeros(length)\n",
        "\n",
        "    if np.allclose(determinant, 0):\n",
        "        print(\"Determinant is zero, there's no solution of given equation.\")\n",
        "        return solution\n",
        "\n",
        "    for i in range(length):\n",
        "        modified_left = np.copy(left)\n",
        "        modified_left[:, i] = np.copy(right)\n",
        "        solution[i] = np.linalg.det(modified_left) / determinant\n",
        "\n",
        "    return solution\n",
        "\n",
        "cramer_result = cramers_solve(left, right)\n",
        "numpy_result = np.linalg.solve(left, right)\n",
        "multiplication_check = np.dot(left, cramer_result)\n",
        "inverse_matrix_check = np.dot(np.linalg.inv(left), right)\n",
        "\n",
        "print(f\"Result of Cramer's method: {cramer_result}\")\n",
        "print(f\"Result of using numpy.linalg.solve(): {numpy_result}\")\n",
        "print(f\"Check results: {np.allclose(numpy_result, cramer_result)}\\n\")\n",
        "\n",
        "print(f\"Check using matrix multiplication: {np.allclose(right, multiplication_check)}\")\n",
        "print(f\"Check using inverse matrix: {np.allclose(inverse_matrix_check, cramer_result)}\")"
      ]
    },
    {
      "cell_type": "markdown",
      "id": "a5160613-8300-4a43-b345-dbf80d26f1f3",
      "metadata": {
        "id": "a5160613-8300-4a43-b345-dbf80d26f1f3"
      },
      "source": [
        "# Task 3"
      ]
    },
    {
      "cell_type": "markdown",
      "id": "8a7178ee-947e-4169-86b9-d82aaaeac8c9",
      "metadata": {
        "id": "8a7178ee-947e-4169-86b9-d82aaaeac8c9"
      },
      "source": [
        "# Обчислити значення матричного виразу\n",
        "$$\n",
        "3(A + B)(AB - 2A), \\quad A =\n",
        "\\begin{bmatrix}\n",
        "    2 & 1 & 3 \\\\\n",
        "    1 & -2 & 0 \\\\\n",
        "    4 & -3 & 0 \\\\\n",
        "\\end{bmatrix},\n",
        "\\quad B =\n",
        "\\begin{bmatrix}\n",
        "    22 & -14 & 3 \\\\\n",
        "    6 & -7 & 0 \\\\\n",
        "    11 & 3 & 15 \\\\\n",
        "\\end{bmatrix}\n",
        "$$\n",
        "bmatrix}\n",
        "\\]\n"
      ]
    },
    {
      "cell_type": "markdown",
      "id": "5b808a98-e43d-4b81-a8a7-197c6f4ba25e",
      "metadata": {
        "id": "5b808a98-e43d-4b81-a8a7-197c6f4ba25e"
      },
      "source": [
        "- з використанням універсальних функцій бібліотеки NumPy.\n",
        "- за допомогою ітеративних конструкцій (з використанням\n",
        "циклів, спискових включень тощо).\n",
        "- для обох випадків підрахувати час виконання скрипту та\n",
        "зробити висновок."
      ]
    },
    {
      "cell_type": "code",
      "execution_count": 10,
      "id": "b7a8f3ed-3b5c-4a5f-a96b-b2e4f851165a",
      "metadata": {
        "id": "b7a8f3ed-3b5c-4a5f-a96b-b2e4f851165a"
      },
      "outputs": [],
      "source": [
        "A = [[2, 1, 3],\n",
        "     [1, -2, 0],\n",
        "     [4, -3, 0]]\n",
        "\n",
        "B = [[22, -14, 3],\n",
        "     [6, -7, 0],\n",
        "     [11, 3, 15]]\n",
        "\n",
        "A_np = np.array(A)\n",
        "B_np = np.array(B)\n",
        "\n",
        "\n",
        "def multiplication(A, B):\n",
        "    a_rows, a_columns, b_rows, b_columns = len(A), len(A[0]), len(B), len(B[0])\n",
        "    result = []\n",
        "    if a_columns != b_rows:\n",
        "        print(\"Multiplication cannot be done because of different dimensions.\")\n",
        "        return result\n",
        "\n",
        "    for i in range(a_rows):\n",
        "        new_row = []\n",
        "        for j in range(b_columns):\n",
        "            element_sum = 0\n",
        "            for k in range(a_columns):\n",
        "                element_sum += A[i][k] * B[k][j]\n",
        "            new_row.append(element_sum)\n",
        "        result.append(new_row)\n",
        "\n",
        "    return result\n",
        "\n",
        "def addition(A, B):\n",
        "    a_rows, a_columns, b_rows, b_columns = len(A), len(A[0]), len(B), len(B[0])\n",
        "    result = []\n",
        "    if a_rows != b_rows or a_columns != b_columns:\n",
        "        print(\"Addition cannot be done because of different dimensions.\")\n",
        "        return result\n",
        "\n",
        "    for i in range(a_rows):\n",
        "        new_row = []\n",
        "        for j in range(a_columns):\n",
        "            new_row.append(A[i][j] + B[i][j])\n",
        "        result.append(new_row)\n",
        "\n",
        "    return result\n",
        "\n",
        "def scalar_multiplication(a, A):\n",
        "    result = []\n",
        "    for i in range(len(A)):\n",
        "        new_row = []\n",
        "        for j in range(len(A[0])):\n",
        "            new_row.append(A[i][j] * a)\n",
        "        result.append(new_row)\n",
        "\n",
        "    return result"
      ]
    },
    {
      "cell_type": "code",
      "execution_count": 11,
      "id": "bc1d6a38-9257-427a-b9bd-70e73064ca42",
      "metadata": {
        "colab": {
          "base_uri": "https://localhost:8080/"
        },
        "id": "bc1d6a38-9257-427a-b9bd-70e73064ca42",
        "outputId": "6edf75b2-a858-46fd-9b1e-711c6cc09b25"
      },
      "outputs": [
        {
          "output_type": "stream",
          "name": "stdout",
          "text": [
            "11.1 µs ± 3.71 µs per loop (mean ± std. dev. of 10 runs, 100 loops each)\n"
          ]
        }
      ],
      "source": [
        "%%timeit -n 100 -r 10\n",
        "numpy_result = 3*(A_np + B_np) @ (A_np * B_np -2*A_np)"
      ]
    }
  ],
  "metadata": {
    "kernelspec": {
      "display_name": "Python 3 (ipykernel)",
      "language": "python",
      "name": "python3"
    },
    "language_info": {
      "codemirror_mode": {
        "name": "ipython",
        "version": 3
      },
      "file_extension": ".py",
      "mimetype": "text/x-python",
      "name": "python",
      "nbconvert_exporter": "python",
      "pygments_lexer": "ipython3",
      "version": "3.11.1"
    },
    "colab": {
      "provenance": []
    }
  },
  "nbformat": 4,
  "nbformat_minor": 5
}